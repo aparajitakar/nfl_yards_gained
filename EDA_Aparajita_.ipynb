{
  "nbformat": 4,
  "nbformat_minor": 5,
  "metadata": {
    "kernelspec": {
      "display_name": "Python 3",
      "language": "python",
      "name": "python3"
    },
    "language_info": {
      "codemirror_mode": {
        "name": "ipython",
        "version": 3
      },
      "file_extension": ".py",
      "mimetype": "text/x-python",
      "name": "python",
      "nbconvert_exporter": "python",
      "pygments_lexer": "ipython3",
      "version": "3.7.4"
    },
    "colab": {
      "name": "EDA_Aparajita .ipynb",
      "provenance": [],
      "include_colab_link": true
    }
  },
  "cells": [
    {
      "cell_type": "markdown",
      "metadata": {
        "id": "view-in-github",
        "colab_type": "text"
      },
      "source": [
        "<a href=\"https://colab.research.google.com/github/aparajitakar/nfl_yards_gained/blob/main/EDA_Aparajita_.ipynb\" target=\"_parent\"><img src=\"https://colab.research.google.com/assets/colab-badge.svg\" alt=\"Open In Colab\"/></a>"
      ]
    },
    {
      "cell_type": "code",
      "metadata": {
        "colab": {
          "base_uri": "https://localhost:8080/"
        },
        "id": "IO63KHuubAVX",
        "outputId": "30522059-e602-4b41-8ff9-604961ad76b2"
      },
      "source": [
        "!ls '/content/gdrive/Shareddrives/CSCI 5523 Project/dev/'"
      ],
      "id": "IO63KHuubAVX",
      "execution_count": null,
      "outputs": [
        {
          "output_type": "stream",
          "name": "stdout",
          "text": [
            "csv\t\t   EDA_Miguel.ipynb   index_generator.ipynb  train_old.csv\n",
            "EDA_Anirudh.ipynb  EDA_Sravani.ipynb  train.csv\t\t     Untitled\n"
          ]
        }
      ]
    },
    {
      "cell_type": "code",
      "metadata": {
        "colab": {
          "base_uri": "https://localhost:8080/"
        },
        "id": "sFNvRQd8ay59",
        "outputId": "2030624a-a0a5-4e7d-c66b-2b51be6c5112"
      },
      "source": [
        "from google.colab import drive\n",
        "drive.mount('/content/gdrive')"
      ],
      "id": "sFNvRQd8ay59",
      "execution_count": null,
      "outputs": [
        {
          "output_type": "stream",
          "name": "stdout",
          "text": [
            "Drive already mounted at /content/gdrive; to attempt to forcibly remount, call drive.mount(\"/content/gdrive\", force_remount=True).\n"
          ]
        }
      ]
    },
    {
      "cell_type": "code",
      "metadata": {
        "colab": {
          "base_uri": "https://localhost:8080/"
        },
        "id": "7Z86f-1rbEuI",
        "outputId": "761fa7c2-f86a-460e-e5eb-9458fcdafe64"
      },
      "source": [
        "# Script directory\n",
        "main_dir = '/content/gdrive/Shareddrives/CSCI 5523 Project/dev/'\n",
        "print(main_dir)\n",
        "\n",
        "# Pre-trained model directory\n",
        "data_dir = main_dir + 'train.csv'\n",
        "print(data_dir)"
      ],
      "id": "7Z86f-1rbEuI",
      "execution_count": null,
      "outputs": [
        {
          "output_type": "stream",
          "name": "stdout",
          "text": [
            "/content/gdrive/Shareddrives/CSCI 5523 Project/dev/\n",
            "/content/gdrive/Shareddrives/CSCI 5523 Project/dev/train.csv\n"
          ]
        }
      ]
    },
    {
      "cell_type": "code",
      "metadata": {
        "id": "later-celebrity"
      },
      "source": [
        "import numpy as np\n",
        "import pandas as pd\n",
        "import matplotlib.pyplot as plt"
      ],
      "id": "later-celebrity",
      "execution_count": null,
      "outputs": []
    },
    {
      "cell_type": "code",
      "metadata": {
        "colab": {
          "base_uri": "https://localhost:8080/"
        },
        "id": "indian-fusion",
        "outputId": "d05fb633-ee56-41cd-f091-5f09ac8adb56"
      },
      "source": [
        "data = pd.read_csv(data_dir)"
      ],
      "id": "indian-fusion",
      "execution_count": null,
      "outputs": [
        {
          "output_type": "stream",
          "name": "stderr",
          "text": [
            "/usr/local/lib/python3.7/dist-packages/IPython/core/interactiveshell.py:2718: DtypeWarning: Columns (48) have mixed types.Specify dtype option on import or set low_memory=False.\n",
            "  interactivity=interactivity, compiler=compiler, result=result)\n"
          ]
        }
      ]
    },
    {
      "cell_type": "code",
      "metadata": {
        "colab": {
          "base_uri": "https://localhost:8080/"
        },
        "id": "dominant-shape",
        "outputId": "24b79754-fcf8-47e1-a88d-7862831a2bd9"
      },
      "source": [
        "print(data.columns)"
      ],
      "id": "dominant-shape",
      "execution_count": null,
      "outputs": [
        {
          "output_type": "stream",
          "name": "stdout",
          "text": [
            "Index(['Unnamed: 0', 'GameId', 'PlayId', 'Team', 'X', 'Y', 'S', 'A', 'Dis',\n",
            "       'Orientation', 'Dir', 'NflId', 'DisplayName', 'JerseyNumber', 'Season',\n",
            "       'YardLine', 'Quarter', 'GameClock', 'PossessionTeam', 'Down',\n",
            "       'Distance', 'FieldPosition', 'HomeScoreBeforePlay',\n",
            "       'VisitorScoreBeforePlay', 'NflIdRusher', 'OffenseFormation',\n",
            "       'OffensePersonnel', 'DefendersInTheBox', 'DefensePersonnel',\n",
            "       'PlayDirection', 'TimeHandoff', 'TimeSnap', 'Yards', 'PlayerHeight',\n",
            "       'PlayerWeight', 'PlayerBirthDate', 'PlayerCollegeName', 'Position',\n",
            "       'HomeTeamAbbr', 'VisitorTeamAbbr', 'Week', 'Stadium', 'Location',\n",
            "       'StadiumType', 'Turf', 'GameWeather', 'Temperature', 'Humidity',\n",
            "       'WindSpeed', 'WindDirection', 'unique_idx'],\n",
            "      dtype='object')\n"
          ]
        }
      ]
    },
    {
      "cell_type": "code",
      "metadata": {
        "scrolled": true,
        "colab": {
          "base_uri": "https://localhost:8080/"
        },
        "id": "judicial-poison",
        "outputId": "7f4664eb-42f1-49c7-a47d-69f110ca98de"
      },
      "source": [
        "data.info()"
      ],
      "id": "judicial-poison",
      "execution_count": null,
      "outputs": [
        {
          "output_type": "stream",
          "name": "stdout",
          "text": [
            "<class 'pandas.core.frame.DataFrame'>\n",
            "RangeIndex: 682154 entries, 0 to 682153\n",
            "Data columns (total 51 columns):\n",
            " #   Column                  Non-Null Count   Dtype  \n",
            "---  ------                  --------------   -----  \n",
            " 0   Unnamed: 0              682154 non-null  int64  \n",
            " 1   GameId                  682154 non-null  int64  \n",
            " 2   PlayId                  682154 non-null  int64  \n",
            " 3   Team                    682154 non-null  object \n",
            " 4   X                       682154 non-null  float64\n",
            " 5   Y                       682154 non-null  float64\n",
            " 6   S                       682154 non-null  float64\n",
            " 7   A                       682154 non-null  float64\n",
            " 8   Dis                     682154 non-null  float64\n",
            " 9   Orientation             682131 non-null  float64\n",
            " 10  Dir                     682126 non-null  float64\n",
            " 11  NflId                   682154 non-null  int64  \n",
            " 12  DisplayName             682154 non-null  object \n",
            " 13  JerseyNumber            682154 non-null  int64  \n",
            " 14  Season                  682154 non-null  int64  \n",
            " 15  YardLine                682154 non-null  int64  \n",
            " 16  Quarter                 682154 non-null  int64  \n",
            " 17  GameClock               682154 non-null  object \n",
            " 18  PossessionTeam          682154 non-null  object \n",
            " 19  Down                    682154 non-null  int64  \n",
            " 20  Distance                682154 non-null  int64  \n",
            " 21  FieldPosition           673552 non-null  object \n",
            " 22  HomeScoreBeforePlay     682154 non-null  int64  \n",
            " 23  VisitorScoreBeforePlay  682154 non-null  int64  \n",
            " 24  NflIdRusher             682154 non-null  int64  \n",
            " 25  OffenseFormation        682066 non-null  object \n",
            " 26  OffensePersonnel        682154 non-null  object \n",
            " 27  DefendersInTheBox       682132 non-null  float64\n",
            " 28  DefensePersonnel        682154 non-null  object \n",
            " 29  PlayDirection           682154 non-null  object \n",
            " 30  TimeHandoff             682154 non-null  object \n",
            " 31  TimeSnap                682154 non-null  object \n",
            " 32  Yards                   682154 non-null  int64  \n",
            " 33  PlayerHeight            682154 non-null  object \n",
            " 34  PlayerWeight            682154 non-null  int64  \n",
            " 35  PlayerBirthDate         682154 non-null  object \n",
            " 36  PlayerCollegeName       682154 non-null  object \n",
            " 37  Position                682154 non-null  object \n",
            " 38  HomeTeamAbbr            682154 non-null  object \n",
            " 39  VisitorTeamAbbr         682154 non-null  object \n",
            " 40  Week                    682154 non-null  int64  \n",
            " 41  Stadium                 682154 non-null  object \n",
            " 42  Location                682154 non-null  object \n",
            " 43  StadiumType             640464 non-null  object \n",
            " 44  Turf                    682154 non-null  object \n",
            " 45  GameWeather             621984 non-null  object \n",
            " 46  Temperature             618508 non-null  float64\n",
            " 47  Humidity                675994 non-null  float64\n",
            " 48  WindSpeed               590282 non-null  object \n",
            " 49  WindDirection           577478 non-null  object \n",
            " 50  unique_idx              682154 non-null  int64  \n",
            "dtypes: float64(10), int64(17), object(24)\n",
            "memory usage: 265.4+ MB\n"
          ]
        }
      ]
    },
    {
      "cell_type": "code",
      "metadata": {
        "colab": {
          "base_uri": "https://localhost:8080/",
          "height": 330
        },
        "id": "atomic-membrane",
        "outputId": "1322cf1d-f7bd-466a-aec7-5494b0b100b1"
      },
      "source": [
        "data.head()"
      ],
      "id": "atomic-membrane",
      "execution_count": null,
      "outputs": [
        {
          "output_type": "execute_result",
          "data": {
            "text/html": [
              "<div>\n",
              "<style scoped>\n",
              "    .dataframe tbody tr th:only-of-type {\n",
              "        vertical-align: middle;\n",
              "    }\n",
              "\n",
              "    .dataframe tbody tr th {\n",
              "        vertical-align: top;\n",
              "    }\n",
              "\n",
              "    .dataframe thead th {\n",
              "        text-align: right;\n",
              "    }\n",
              "</style>\n",
              "<table border=\"1\" class=\"dataframe\">\n",
              "  <thead>\n",
              "    <tr style=\"text-align: right;\">\n",
              "      <th></th>\n",
              "      <th>Unnamed: 0</th>\n",
              "      <th>GameId</th>\n",
              "      <th>PlayId</th>\n",
              "      <th>Team</th>\n",
              "      <th>X</th>\n",
              "      <th>Y</th>\n",
              "      <th>S</th>\n",
              "      <th>A</th>\n",
              "      <th>Dis</th>\n",
              "      <th>Orientation</th>\n",
              "      <th>Dir</th>\n",
              "      <th>NflId</th>\n",
              "      <th>DisplayName</th>\n",
              "      <th>JerseyNumber</th>\n",
              "      <th>Season</th>\n",
              "      <th>YardLine</th>\n",
              "      <th>Quarter</th>\n",
              "      <th>GameClock</th>\n",
              "      <th>PossessionTeam</th>\n",
              "      <th>Down</th>\n",
              "      <th>Distance</th>\n",
              "      <th>FieldPosition</th>\n",
              "      <th>HomeScoreBeforePlay</th>\n",
              "      <th>VisitorScoreBeforePlay</th>\n",
              "      <th>NflIdRusher</th>\n",
              "      <th>OffenseFormation</th>\n",
              "      <th>OffensePersonnel</th>\n",
              "      <th>DefendersInTheBox</th>\n",
              "      <th>DefensePersonnel</th>\n",
              "      <th>PlayDirection</th>\n",
              "      <th>TimeHandoff</th>\n",
              "      <th>TimeSnap</th>\n",
              "      <th>Yards</th>\n",
              "      <th>PlayerHeight</th>\n",
              "      <th>PlayerWeight</th>\n",
              "      <th>PlayerBirthDate</th>\n",
              "      <th>PlayerCollegeName</th>\n",
              "      <th>Position</th>\n",
              "      <th>HomeTeamAbbr</th>\n",
              "      <th>VisitorTeamAbbr</th>\n",
              "      <th>Week</th>\n",
              "      <th>Stadium</th>\n",
              "      <th>Location</th>\n",
              "      <th>StadiumType</th>\n",
              "      <th>Turf</th>\n",
              "      <th>GameWeather</th>\n",
              "      <th>Temperature</th>\n",
              "      <th>Humidity</th>\n",
              "      <th>WindSpeed</th>\n",
              "      <th>WindDirection</th>\n",
              "      <th>unique_idx</th>\n",
              "    </tr>\n",
              "  </thead>\n",
              "  <tbody>\n",
              "    <tr>\n",
              "      <th>0</th>\n",
              "      <td>0</td>\n",
              "      <td>2017090700</td>\n",
              "      <td>20170907000118</td>\n",
              "      <td>away</td>\n",
              "      <td>73.91</td>\n",
              "      <td>34.84</td>\n",
              "      <td>1.69</td>\n",
              "      <td>1.13</td>\n",
              "      <td>0.40</td>\n",
              "      <td>81.99</td>\n",
              "      <td>177.18</td>\n",
              "      <td>496723</td>\n",
              "      <td>Eric Berry</td>\n",
              "      <td>29</td>\n",
              "      <td>2017</td>\n",
              "      <td>35</td>\n",
              "      <td>1</td>\n",
              "      <td>14:14:00</td>\n",
              "      <td>NE</td>\n",
              "      <td>3</td>\n",
              "      <td>2</td>\n",
              "      <td>NE</td>\n",
              "      <td>0</td>\n",
              "      <td>0</td>\n",
              "      <td>2543773</td>\n",
              "      <td>SHOTGUN</td>\n",
              "      <td>1 RB, 1 TE, 3 WR</td>\n",
              "      <td>6.0</td>\n",
              "      <td>2 DL, 3 LB, 6 DB</td>\n",
              "      <td>left</td>\n",
              "      <td>2017-09-08T00:44:06.000Z</td>\n",
              "      <td>2017-09-08T00:44:05.000Z</td>\n",
              "      <td>8</td>\n",
              "      <td>6-0</td>\n",
              "      <td>212</td>\n",
              "      <td>12/29/1988</td>\n",
              "      <td>Tennessee</td>\n",
              "      <td>SS</td>\n",
              "      <td>NE</td>\n",
              "      <td>KC</td>\n",
              "      <td>1</td>\n",
              "      <td>Gillette Stadium</td>\n",
              "      <td>Foxborough, MA</td>\n",
              "      <td>Outdoor</td>\n",
              "      <td>Field Turf</td>\n",
              "      <td>Clear and warm</td>\n",
              "      <td>63.0</td>\n",
              "      <td>77.0</td>\n",
              "      <td>8</td>\n",
              "      <td>SW</td>\n",
              "      <td>1</td>\n",
              "    </tr>\n",
              "    <tr>\n",
              "      <th>1</th>\n",
              "      <td>1</td>\n",
              "      <td>2017090700</td>\n",
              "      <td>20170907000118</td>\n",
              "      <td>away</td>\n",
              "      <td>74.67</td>\n",
              "      <td>32.64</td>\n",
              "      <td>0.42</td>\n",
              "      <td>1.35</td>\n",
              "      <td>0.01</td>\n",
              "      <td>27.61</td>\n",
              "      <td>198.70</td>\n",
              "      <td>2495116</td>\n",
              "      <td>Allen Bailey</td>\n",
              "      <td>97</td>\n",
              "      <td>2017</td>\n",
              "      <td>35</td>\n",
              "      <td>1</td>\n",
              "      <td>14:14:00</td>\n",
              "      <td>NE</td>\n",
              "      <td>3</td>\n",
              "      <td>2</td>\n",
              "      <td>NE</td>\n",
              "      <td>0</td>\n",
              "      <td>0</td>\n",
              "      <td>2543773</td>\n",
              "      <td>SHOTGUN</td>\n",
              "      <td>1 RB, 1 TE, 3 WR</td>\n",
              "      <td>6.0</td>\n",
              "      <td>2 DL, 3 LB, 6 DB</td>\n",
              "      <td>left</td>\n",
              "      <td>2017-09-08T00:44:06.000Z</td>\n",
              "      <td>2017-09-08T00:44:05.000Z</td>\n",
              "      <td>8</td>\n",
              "      <td>6-3</td>\n",
              "      <td>288</td>\n",
              "      <td>03/25/1989</td>\n",
              "      <td>Miami</td>\n",
              "      <td>DE</td>\n",
              "      <td>NE</td>\n",
              "      <td>KC</td>\n",
              "      <td>1</td>\n",
              "      <td>Gillette Stadium</td>\n",
              "      <td>Foxborough, MA</td>\n",
              "      <td>Outdoor</td>\n",
              "      <td>Field Turf</td>\n",
              "      <td>Clear and warm</td>\n",
              "      <td>63.0</td>\n",
              "      <td>77.0</td>\n",
              "      <td>8</td>\n",
              "      <td>SW</td>\n",
              "      <td>2</td>\n",
              "    </tr>\n",
              "    <tr>\n",
              "      <th>2</th>\n",
              "      <td>2</td>\n",
              "      <td>2017090700</td>\n",
              "      <td>20170907000118</td>\n",
              "      <td>away</td>\n",
              "      <td>74.00</td>\n",
              "      <td>33.20</td>\n",
              "      <td>1.22</td>\n",
              "      <td>0.59</td>\n",
              "      <td>0.31</td>\n",
              "      <td>3.01</td>\n",
              "      <td>202.73</td>\n",
              "      <td>2495493</td>\n",
              "      <td>Justin Houston</td>\n",
              "      <td>50</td>\n",
              "      <td>2017</td>\n",
              "      <td>35</td>\n",
              "      <td>1</td>\n",
              "      <td>14:14:00</td>\n",
              "      <td>NE</td>\n",
              "      <td>3</td>\n",
              "      <td>2</td>\n",
              "      <td>NE</td>\n",
              "      <td>0</td>\n",
              "      <td>0</td>\n",
              "      <td>2543773</td>\n",
              "      <td>SHOTGUN</td>\n",
              "      <td>1 RB, 1 TE, 3 WR</td>\n",
              "      <td>6.0</td>\n",
              "      <td>2 DL, 3 LB, 6 DB</td>\n",
              "      <td>left</td>\n",
              "      <td>2017-09-08T00:44:06.000Z</td>\n",
              "      <td>2017-09-08T00:44:05.000Z</td>\n",
              "      <td>8</td>\n",
              "      <td>6-3</td>\n",
              "      <td>270</td>\n",
              "      <td>01/21/1989</td>\n",
              "      <td>Georgia</td>\n",
              "      <td>DE</td>\n",
              "      <td>NE</td>\n",
              "      <td>KC</td>\n",
              "      <td>1</td>\n",
              "      <td>Gillette Stadium</td>\n",
              "      <td>Foxborough, MA</td>\n",
              "      <td>Outdoor</td>\n",
              "      <td>Field Turf</td>\n",
              "      <td>Clear and warm</td>\n",
              "      <td>63.0</td>\n",
              "      <td>77.0</td>\n",
              "      <td>8</td>\n",
              "      <td>SW</td>\n",
              "      <td>3</td>\n",
              "    </tr>\n",
              "    <tr>\n",
              "      <th>3</th>\n",
              "      <td>3</td>\n",
              "      <td>2017090700</td>\n",
              "      <td>20170907000118</td>\n",
              "      <td>away</td>\n",
              "      <td>71.46</td>\n",
              "      <td>27.70</td>\n",
              "      <td>0.42</td>\n",
              "      <td>0.54</td>\n",
              "      <td>0.02</td>\n",
              "      <td>359.77</td>\n",
              "      <td>105.64</td>\n",
              "      <td>2506353</td>\n",
              "      <td>Derrick Johnson</td>\n",
              "      <td>56</td>\n",
              "      <td>2017</td>\n",
              "      <td>35</td>\n",
              "      <td>1</td>\n",
              "      <td>14:14:00</td>\n",
              "      <td>NE</td>\n",
              "      <td>3</td>\n",
              "      <td>2</td>\n",
              "      <td>NE</td>\n",
              "      <td>0</td>\n",
              "      <td>0</td>\n",
              "      <td>2543773</td>\n",
              "      <td>SHOTGUN</td>\n",
              "      <td>1 RB, 1 TE, 3 WR</td>\n",
              "      <td>6.0</td>\n",
              "      <td>2 DL, 3 LB, 6 DB</td>\n",
              "      <td>left</td>\n",
              "      <td>2017-09-08T00:44:06.000Z</td>\n",
              "      <td>2017-09-08T00:44:05.000Z</td>\n",
              "      <td>8</td>\n",
              "      <td>6-3</td>\n",
              "      <td>245</td>\n",
              "      <td>11/22/1982</td>\n",
              "      <td>Texas</td>\n",
              "      <td>ILB</td>\n",
              "      <td>NE</td>\n",
              "      <td>KC</td>\n",
              "      <td>1</td>\n",
              "      <td>Gillette Stadium</td>\n",
              "      <td>Foxborough, MA</td>\n",
              "      <td>Outdoor</td>\n",
              "      <td>Field Turf</td>\n",
              "      <td>Clear and warm</td>\n",
              "      <td>63.0</td>\n",
              "      <td>77.0</td>\n",
              "      <td>8</td>\n",
              "      <td>SW</td>\n",
              "      <td>4</td>\n",
              "    </tr>\n",
              "    <tr>\n",
              "      <th>4</th>\n",
              "      <td>4</td>\n",
              "      <td>2017090700</td>\n",
              "      <td>20170907000118</td>\n",
              "      <td>away</td>\n",
              "      <td>69.32</td>\n",
              "      <td>35.42</td>\n",
              "      <td>1.82</td>\n",
              "      <td>2.43</td>\n",
              "      <td>0.16</td>\n",
              "      <td>12.63</td>\n",
              "      <td>164.31</td>\n",
              "      <td>2530794</td>\n",
              "      <td>Ron Parker</td>\n",
              "      <td>38</td>\n",
              "      <td>2017</td>\n",
              "      <td>35</td>\n",
              "      <td>1</td>\n",
              "      <td>14:14:00</td>\n",
              "      <td>NE</td>\n",
              "      <td>3</td>\n",
              "      <td>2</td>\n",
              "      <td>NE</td>\n",
              "      <td>0</td>\n",
              "      <td>0</td>\n",
              "      <td>2543773</td>\n",
              "      <td>SHOTGUN</td>\n",
              "      <td>1 RB, 1 TE, 3 WR</td>\n",
              "      <td>6.0</td>\n",
              "      <td>2 DL, 3 LB, 6 DB</td>\n",
              "      <td>left</td>\n",
              "      <td>2017-09-08T00:44:06.000Z</td>\n",
              "      <td>2017-09-08T00:44:05.000Z</td>\n",
              "      <td>8</td>\n",
              "      <td>6-0</td>\n",
              "      <td>206</td>\n",
              "      <td>08/17/1987</td>\n",
              "      <td>Newberry</td>\n",
              "      <td>FS</td>\n",
              "      <td>NE</td>\n",
              "      <td>KC</td>\n",
              "      <td>1</td>\n",
              "      <td>Gillette Stadium</td>\n",
              "      <td>Foxborough, MA</td>\n",
              "      <td>Outdoor</td>\n",
              "      <td>Field Turf</td>\n",
              "      <td>Clear and warm</td>\n",
              "      <td>63.0</td>\n",
              "      <td>77.0</td>\n",
              "      <td>8</td>\n",
              "      <td>SW</td>\n",
              "      <td>5</td>\n",
              "    </tr>\n",
              "  </tbody>\n",
              "</table>\n",
              "</div>"
            ],
            "text/plain": [
              "   Unnamed: 0      GameId          PlayId  ... WindSpeed  WindDirection  unique_idx\n",
              "0           0  2017090700  20170907000118  ...         8             SW           1\n",
              "1           1  2017090700  20170907000118  ...         8             SW           2\n",
              "2           2  2017090700  20170907000118  ...         8             SW           3\n",
              "3           3  2017090700  20170907000118  ...         8             SW           4\n",
              "4           4  2017090700  20170907000118  ...         8             SW           5\n",
              "\n",
              "[5 rows x 51 columns]"
            ]
          },
          "metadata": {},
          "execution_count": 14
        }
      ]
    },
    {
      "cell_type": "code",
      "metadata": {
        "colab": {
          "base_uri": "https://localhost:8080/"
        },
        "id": "arabic-extreme",
        "outputId": "c31863e8-3058-497c-a076-5fa187bd2f3e"
      },
      "source": [
        "print(f\"The dimension of the data is {data.shape}\")"
      ],
      "id": "arabic-extreme",
      "execution_count": null,
      "outputs": [
        {
          "output_type": "stream",
          "name": "stdout",
          "text": [
            "The dimension of the data is (682154, 51)\n"
          ]
        }
      ]
    },
    {
      "cell_type": "code",
      "metadata": {
        "colab": {
          "base_uri": "https://localhost:8080/"
        },
        "id": "wrong-david",
        "outputId": "31992184-75c3-43a6-defe-5d92ed2bb6a2"
      },
      "source": [
        "data.duplicated(keep = \"first\")"
      ],
      "id": "wrong-david",
      "execution_count": null,
      "outputs": [
        {
          "output_type": "execute_result",
          "data": {
            "text/plain": [
              "0         False\n",
              "1         False\n",
              "2         False\n",
              "3         False\n",
              "4         False\n",
              "          ...  \n",
              "682149    False\n",
              "682150    False\n",
              "682151    False\n",
              "682152    False\n",
              "682153    False\n",
              "Length: 682154, dtype: bool"
            ]
          },
          "metadata": {},
          "execution_count": 16
        }
      ]
    },
    {
      "cell_type": "code",
      "metadata": {
        "colab": {
          "base_uri": "https://localhost:8080/"
        },
        "id": "irish-precipitation",
        "outputId": "fdf1a37b-fdb8-447b-ace7-553590036250"
      },
      "source": [
        "#percent missing data \n",
        "\n",
        "for col in data.columns:\n",
        "    pct_missing = np.mean(data[col].isnull())\n",
        "    print('{} - {}%'.format(col, round(pct_missing*100)))"
      ],
      "id": "irish-precipitation",
      "execution_count": null,
      "outputs": [
        {
          "output_type": "stream",
          "name": "stdout",
          "text": [
            "Unnamed: 0 - 0%\n",
            "GameId - 0%\n",
            "PlayId - 0%\n",
            "Team - 0%\n",
            "X - 0%\n",
            "Y - 0%\n",
            "S - 0%\n",
            "A - 0%\n",
            "Dis - 0%\n",
            "Orientation - 0%\n",
            "Dir - 0%\n",
            "NflId - 0%\n",
            "DisplayName - 0%\n",
            "JerseyNumber - 0%\n",
            "Season - 0%\n",
            "YardLine - 0%\n",
            "Quarter - 0%\n",
            "GameClock - 0%\n",
            "PossessionTeam - 0%\n",
            "Down - 0%\n",
            "Distance - 0%\n",
            "FieldPosition - 1%\n",
            "HomeScoreBeforePlay - 0%\n",
            "VisitorScoreBeforePlay - 0%\n",
            "NflIdRusher - 0%\n",
            "OffenseFormation - 0%\n",
            "OffensePersonnel - 0%\n",
            "DefendersInTheBox - 0%\n",
            "DefensePersonnel - 0%\n",
            "PlayDirection - 0%\n",
            "TimeHandoff - 0%\n",
            "TimeSnap - 0%\n",
            "Yards - 0%\n",
            "PlayerHeight - 0%\n",
            "PlayerWeight - 0%\n",
            "PlayerBirthDate - 0%\n",
            "PlayerCollegeName - 0%\n",
            "Position - 0%\n",
            "HomeTeamAbbr - 0%\n",
            "VisitorTeamAbbr - 0%\n",
            "Week - 0%\n",
            "Stadium - 0%\n",
            "Location - 0%\n",
            "StadiumType - 6%\n",
            "Turf - 0%\n",
            "GameWeather - 9%\n",
            "Temperature - 9%\n",
            "Humidity - 1%\n",
            "WindSpeed - 13%\n",
            "WindDirection - 15%\n",
            "unique_idx - 0%\n"
          ]
        }
      ]
    },
    {
      "cell_type": "code",
      "metadata": {
        "colab": {
          "base_uri": "https://localhost:8080/"
        },
        "id": "agreed-charity",
        "outputId": "35caa32a-ef4f-469c-fcca-448f00f3bd75"
      },
      "source": [
        "data[\"Team\"].describe() #NO MISSING VALUES. "
      ],
      "id": "agreed-charity",
      "execution_count": null,
      "outputs": [
        {
          "output_type": "execute_result",
          "data": {
            "text/plain": [
              "count     682154\n",
              "unique         2\n",
              "top         away\n",
              "freq      341077\n",
              "Name: Team, dtype: object"
            ]
          },
          "metadata": {},
          "execution_count": 18
        }
      ]
    },
    {
      "cell_type": "code",
      "metadata": {
        "colab": {
          "base_uri": "https://localhost:8080/"
        },
        "id": "approved-orbit",
        "outputId": "aa37c5ac-fb5c-4223-d963-c9fdaa1e7fad"
      },
      "source": [
        "data[\"Team\"].value_counts()  \n",
        "#uniform distribution. \n",
        "#home #away "
      ],
      "id": "approved-orbit",
      "execution_count": null,
      "outputs": [
        {
          "output_type": "execute_result",
          "data": {
            "text/plain": [
              "away    341077\n",
              "home    341077\n",
              "Name: Team, dtype: int64"
            ]
          },
          "metadata": {},
          "execution_count": 19
        }
      ]
    },
    {
      "cell_type": "code",
      "metadata": {
        "colab": {
          "base_uri": "https://localhost:8080/"
        },
        "id": "valid-ensemble",
        "outputId": "6a4728d8-4424-4a18-f394-ec9ccf69dc84"
      },
      "source": [
        "data[\"Dis\"].describe() #no missing values. "
      ],
      "id": "valid-ensemble",
      "execution_count": null,
      "outputs": [
        {
          "output_type": "execute_result",
          "data": {
            "text/plain": [
              "count    682154.000000\n",
              "mean          0.278193\n",
              "std           0.145218\n",
              "min           0.000000\n",
              "25%           0.160000\n",
              "50%           0.270000\n",
              "75%           0.390000\n",
              "max           1.390000\n",
              "Name: Dis, dtype: float64"
            ]
          },
          "metadata": {},
          "execution_count": 20
        }
      ]
    },
    {
      "cell_type": "code",
      "metadata": {
        "colab": {
          "base_uri": "https://localhost:8080/",
          "height": 282
        },
        "id": "emerging-business",
        "outputId": "9f738d08-6060-44b6-eedd-dc1eac9fbbd2"
      },
      "source": [
        "data[\"Dis\"].hist() #has zero values #do not know if that makes any sense. "
      ],
      "id": "emerging-business",
      "execution_count": null,
      "outputs": [
        {
          "output_type": "execute_result",
          "data": {
            "text/plain": [
              "<matplotlib.axes._subplots.AxesSubplot at 0x7f76a8b3cfd0>"
            ]
          },
          "metadata": {},
          "execution_count": 21
        },
        {
          "output_type": "display_data",
          "data": {
            "image/png": "[encoded data removed]",
            "text/plain": [
              "<Figure size 432x288 with 1 Axes>"
            ]
          },
          "metadata": {
            "needs_background": "light"
          }
        }
      ]
    },
    {
      "cell_type": "code",
      "metadata": {
        "colab": {
          "base_uri": "https://localhost:8080/"
        },
        "id": "moving-advocate",
        "outputId": "316710b4-29eb-4276-f720-bd0be52e4b5d"
      },
      "source": [
        "data[\"JerseyNumber\"].value_counts() #not relevant given context.  "
      ],
      "id": "moving-advocate",
      "execution_count": null,
      "outputs": [
        {
          "output_type": "execute_result",
          "data": {
            "text/plain": [
              "21    14806\n",
              "23    13396\n",
              "26    12877\n",
              "90    11850\n",
              "24    11682\n",
              "      ...  \n",
              "49     1752\n",
              "2      1506\n",
              "46     1419\n",
              "6      1125\n",
              "1       819\n",
              "Name: JerseyNumber, Length: 99, dtype: int64"
            ]
          },
          "metadata": {},
          "execution_count": 22
        }
      ]
    },
    {
      "cell_type": "code",
      "metadata": {
        "colab": {
          "base_uri": "https://localhost:8080/"
        },
        "id": "improved-publicity",
        "outputId": "5d13c26a-1d94-4b04-ee73-49ffbf893434"
      },
      "source": [
        "data[\"JerseyNumber\"].isnull().any()"
      ],
      "id": "improved-publicity",
      "execution_count": null,
      "outputs": [
        {
          "output_type": "execute_result",
          "data": {
            "text/plain": [
              "False"
            ]
          },
          "metadata": {},
          "execution_count": 23
        }
      ]
    },
    {
      "cell_type": "code",
      "metadata": {
        "colab": {
          "base_uri": "https://localhost:8080/"
        },
        "id": "dramatic-fetish",
        "outputId": "1b42a785-44dc-49fa-cb7c-91edb641901b"
      },
      "source": [
        "data[\"PossessionTeam\"].value_counts()  #domain knowledge reqd. "
      ],
      "id": "dramatic-fetish",
      "execution_count": null,
      "outputs": [
        {
          "output_type": "execute_result",
          "data": {
            "text/plain": [
              "NE     24860\n",
              "BLT    23848\n",
              "MIN    23606\n",
              "SF     23562\n",
              "SEA    23298\n",
              "LA     23254\n",
              "DAL    23012\n",
              "JAX    22616\n",
              "IND    22616\n",
              "NO     22528\n",
              "PHI    22352\n",
              "DEN    22330\n",
              "HST    22066\n",
              "LAC    21824\n",
              "TEN    21692\n",
              "OAK    21648\n",
              "BUF    21582\n",
              "CHI    21296\n",
              "DET    21054\n",
              "NYJ    20526\n",
              "PIT    20372\n",
              "ATL    19954\n",
              "NYG    19932\n",
              "CLV    19822\n",
              "CAR    19690\n",
              "WAS    19602\n",
              "TB     19448\n",
              "ARZ    19316\n",
              "KC     19052\n",
              "CIN    18898\n",
              "GB     18392\n",
              "MIA    18106\n",
              "Name: PossessionTeam, dtype: int64"
            ]
          },
          "metadata": {},
          "execution_count": 24
        }
      ]
    },
    {
      "cell_type": "code",
      "metadata": {
        "colab": {
          "base_uri": "https://localhost:8080/",
          "height": 297
        },
        "id": "oriented-korean",
        "outputId": "438204b9-6191-4269-e070-f913a810ae92"
      },
      "source": [
        "import seaborn as sns\n",
        "ax = sns.countplot(x=\"PossessionTeam\", data=data)\n",
        "\n",
        "ax.set_xticklabels(ax.get_xticklabels(), rotation=90, ha=\"right\")\n",
        "plt.tight_layout()\n",
        "plt.show()"
      ],
      "id": "oriented-korean",
      "execution_count": null,
      "outputs": [
        {
          "output_type": "display_data",
          "data": {
            "image/png": "[encoded data removed]",
            "text/plain": [
              "<Figure size 432x288 with 1 Axes>"
            ]
          },
          "metadata": {
            "needs_background": "light"
          }
        }
      ]
    },
    {
      "cell_type": "code",
      "metadata": {
        "colab": {
          "base_uri": "https://localhost:8080/",
          "height": 282
        },
        "id": "composite-diagnosis",
        "outputId": "2adfcb62-7b45-4b22-8276-85f34411ab1e"
      },
      "source": [
        "data[\"VisitorScoreBeforePlay\"].hist()\n",
        "#data skewed #need normalization "
      ],
      "id": "composite-diagnosis",
      "execution_count": null,
      "outputs": [
        {
          "output_type": "execute_result",
          "data": {
            "text/plain": [
              "<matplotlib.axes._subplots.AxesSubplot at 0x7f7699abdc10>"
            ]
          },
          "metadata": {},
          "execution_count": 26
        },
        {
          "output_type": "display_data",
          "data": {
            "image/png": "[encoded data removed]",
            "text/plain": [
              "<Figure size 432x288 with 1 Axes>"
            ]
          },
          "metadata": {
            "needs_background": "light"
          }
        }
      ]
    },
    {
      "cell_type": "code",
      "metadata": {
        "colab": {
          "base_uri": "https://localhost:8080/"
        },
        "id": "numerical-development",
        "outputId": "9c8e578c-8135-407a-f242-fc01a2a7547e"
      },
      "source": [
        "data[\"VisitorScoreBeforePlay\"].describe()\n",
        "#data skewed #need normalization "
      ],
      "id": "numerical-development",
      "execution_count": null,
      "outputs": [
        {
          "output_type": "execute_result",
          "data": {
            "text/plain": [
              "count    682154.000000\n",
              "mean          9.762570\n",
              "std           9.532945\n",
              "min           0.000000\n",
              "25%           0.000000\n",
              "50%           7.000000\n",
              "75%          16.000000\n",
              "max          59.000000\n",
              "Name: VisitorScoreBeforePlay, dtype: float64"
            ]
          },
          "metadata": {},
          "execution_count": 27
        }
      ]
    },
    {
      "cell_type": "code",
      "metadata": {
        "colab": {
          "base_uri": "https://localhost:8080/"
        },
        "id": "guided-lingerie",
        "outputId": "08517c0e-40b0-4421-a623-9b92c804d7d2"
      },
      "source": [
        "data[\"DefensePersonnel\"].value_counts()  #need three cloumns of it. "
      ],
      "id": "guided-lingerie",
      "execution_count": null,
      "outputs": [
        {
          "output_type": "execute_result",
          "data": {
            "text/plain": [
              "4 DL, 2 LB, 5 DB          177188\n",
              "4 DL, 3 LB, 4 DB          173250\n",
              "3 DL, 4 LB, 4 DB          110418\n",
              "2 DL, 4 LB, 5 DB           81378\n",
              "3 DL, 3 LB, 5 DB           74932\n",
              "2 DL, 3 LB, 6 DB           17336\n",
              "4 DL, 1 LB, 6 DB           10450\n",
              "5 DL, 2 LB, 4 DB            7084\n",
              "4 DL, 4 LB, 3 DB            6490\n",
              "3 DL, 2 LB, 6 DB            5258\n",
              "5 DL, 3 LB, 3 DB            3212\n",
              "1 DL, 4 LB, 6 DB            2200\n",
              "5 DL, 4 LB, 2 DB            1672\n",
              "3 DL, 5 LB, 3 DB            1672\n",
              "6 DL, 3 LB, 2 DB            1408\n",
              "6 DL, 4 LB, 1 DB            1364\n",
              "5 DL, 1 LB, 5 DB            1100\n",
              "1 DL, 5 LB, 5 DB             924\n",
              "6 DL, 2 LB, 3 DB             880\n",
              "2 DL, 5 LB, 4 DB             616\n",
              "1 DL, 3 LB, 7 DB             506\n",
              "2 DL, 2 LB, 7 DB             418\n",
              "4 DL, 5 LB, 2 DB             352\n",
              "5 DL, 5 LB, 1 DB             330\n",
              "3 DL, 1 LB, 7 DB             286\n",
              "2 DL, 4 LB, 4 DB, 1 RB       220\n",
              "1 DL, 4 LB, 5 DB, 1 RB       154\n",
              "5 DL, 3 LB, 2 DB, 1 OL       154\n",
              "0 DL, 5 LB, 6 DB             132\n",
              "0 DL, 4 LB, 7 DB             132\n",
              "1 DL, 3 LB, 6 DB, 1 RB        88\n",
              "2 DL, 4 LB, 4 DB, 1 OL        66\n",
              "4 DL, 0 LB, 7 DB              66\n",
              "4 DL, 6 LB, 1 DB              66\n",
              "5 DL, 4 LB, 1 DB, 1 OL        66\n",
              "2 DL, 3 LB, 5 DB, 1 RB        44\n",
              "0 DL, 6 LB, 5 DB              44\n",
              "3 DL, 4 LB, 3 DB, 1 RB        44\n",
              "4 DL, 5 LB, 1 DB, 1 OL        22\n",
              "1 DL, 2 LB, 8 DB              22\n",
              "7 DL, 2 LB, 2 DB              22\n",
              "3 DL, 4 LB, 3 DB, 1 OL        22\n",
              "4 DL, 3 LB, 5 DB              22\n",
              "6 DL, 1 LB, 4 DB              22\n",
              "0 DL, 4 LB, 6 DB, 1 RB        22\n",
              "Name: DefensePersonnel, dtype: int64"
            ]
          },
          "metadata": {},
          "execution_count": 28
        }
      ]
    },
    {
      "cell_type": "code",
      "metadata": {
        "id": "dense-lighter"
      },
      "source": [
        "#create 5 columns each with number of DL,LB,DB,RB,OL\n",
        "\n",
        "data[\"DP_DL\"] = data[\"DefensePersonnel\"].apply(lambda x: int(x.split()[0]))\n",
        "data[\"DP_LB\"] = data[\"DefensePersonnel\"].apply(lambda x: int(x.split()[2]))\n",
        "data[\"DP_DB\"] = data[\"DefensePersonnel\"].apply(lambda x: int(x.split()[4]))\n",
        "data[\"DP_RB\"] = data[\"DefensePersonnel\"].apply(lambda x: 1 if \"RB\" in x else 0)\n",
        "data[\"DP_OL\"] = data[\"DefensePersonnel\"].apply(lambda x: 1 if \"OL\" in x else 0)"
      ],
      "id": "dense-lighter",
      "execution_count": null,
      "outputs": []
    },
    {
      "cell_type": "code",
      "metadata": {
        "colab": {
          "base_uri": "https://localhost:8080/",
          "height": 282
        },
        "id": "flush-jewelry",
        "outputId": "c13e89cb-0df6-4878-99fa-0a99ffe234fb"
      },
      "source": [
        "data[\"PlayerHeight\"].hist()"
      ],
      "id": "flush-jewelry",
      "execution_count": null,
      "outputs": [
        {
          "output_type": "execute_result",
          "data": {
            "text/plain": [
              "<matplotlib.axes._subplots.AxesSubplot at 0x7f769a3560d0>"
            ]
          },
          "metadata": {},
          "execution_count": 30
        },
        {
          "output_type": "display_data",
          "data": {
            "image/png": "[encoded data removed]",
            "text/plain": [
              "<Figure size 432x288 with 1 Axes>"
            ]
          },
          "metadata": {
            "needs_background": "light"
          }
        }
      ]
    },
    {
      "cell_type": "code",
      "metadata": {
        "colab": {
          "base_uri": "https://localhost:8080/"
        },
        "id": "designing-vinyl",
        "outputId": "1ec46830-f2de-48a4-c5a8-f28ed4e57fb1"
      },
      "source": [
        "data[\"PlayerHeight\"].value_counts()"
      ],
      "id": "designing-vinyl",
      "execution_count": null,
      "outputs": [
        {
          "output_type": "execute_result",
          "data": {
            "text/plain": [
              "6-3     108240\n",
              "6-4      90139\n",
              "6-5      83706\n",
              "6-1      82336\n",
              "6-2      71347\n",
              "6-0      67819\n",
              "5-11     54009\n",
              "6-6      47488\n",
              "5-10     32286\n",
              "6-7      16099\n",
              "5-9      12251\n",
              "6-8       7646\n",
              "5-8       4638\n",
              "6-9       2683\n",
              "5-7        945\n",
              "5-6        522\n",
              "Name: PlayerHeight, dtype: int64"
            ]
          },
          "metadata": {},
          "execution_count": 31
        }
      ]
    },
    {
      "cell_type": "code",
      "metadata": {
        "id": "dominant-adrian"
      },
      "source": [
        "data[\"Height_in_cms\"] = data[\"PlayerHeight\"].apply(lambda x:(int(x.split(\"-\")[0])*12 + int(x.split(\"-\")[1]))*2.54)"
      ],
      "id": "dominant-adrian",
      "execution_count": null,
      "outputs": []
    },
    {
      "cell_type": "code",
      "metadata": {
        "colab": {
          "base_uri": "https://localhost:8080/"
        },
        "id": "extra-observer",
        "outputId": "97360654-bdcb-49e9-d5fa-c56546ab4d8c"
      },
      "source": [
        "data[\"Height_in_cms\"].value_counts()  #converted to cms #need to delete PlayerHeight"
      ],
      "id": "extra-observer",
      "execution_count": null,
      "outputs": [
        {
          "output_type": "execute_result",
          "data": {
            "text/plain": [
              "190.50    108240\n",
              "193.04     90139\n",
              "195.58     83706\n",
              "185.42     82336\n",
              "187.96     71347\n",
              "182.88     67819\n",
              "180.34     54009\n",
              "198.12     47488\n",
              "177.80     32286\n",
              "200.66     16099\n",
              "175.26     12251\n",
              "203.20      7646\n",
              "172.72      4638\n",
              "205.74      2683\n",
              "170.18       945\n",
              "167.64       522\n",
              "Name: Height_in_cms, dtype: int64"
            ]
          },
          "metadata": {},
          "execution_count": 33
        }
      ]
    },
    {
      "cell_type": "code",
      "metadata": {
        "colab": {
          "base_uri": "https://localhost:8080/",
          "height": 282
        },
        "id": "faced-hierarchy",
        "outputId": "e88f42ac-c3b7-482b-8afb-e3d2f984b33d"
      },
      "source": [
        "data[\"Height_in_cms\"].hist()"
      ],
      "id": "faced-hierarchy",
      "execution_count": null,
      "outputs": [
        {
          "output_type": "execute_result",
          "data": {
            "text/plain": [
              "<matplotlib.axes._subplots.AxesSubplot at 0x7f7691190190>"
            ]
          },
          "metadata": {},
          "execution_count": 34
        },
        {
          "output_type": "display_data",
          "data": {
            "image/png": "[encoded data removed]",
            "text/plain": [
              "<Figure size 432x288 with 1 Axes>"
            ]
          },
          "metadata": {
            "needs_background": "light"
          }
        }
      ]
    },
    {
      "cell_type": "code",
      "metadata": {
        "colab": {
          "base_uri": "https://localhost:8080/"
        },
        "id": "hungry-victorian",
        "outputId": "ef1d547f-947c-474d-9fdd-64df9d4e03ff"
      },
      "source": [
        "data[\"Height_in_cms\"].describe()"
      ],
      "id": "hungry-victorian",
      "execution_count": null,
      "outputs": [
        {
          "output_type": "execute_result",
          "data": {
            "text/plain": [
              "count    682154.000000\n",
              "mean        188.949412\n",
              "std           6.593623\n",
              "min         167.640000\n",
              "25%         182.880000\n",
              "50%         190.500000\n",
              "75%         193.040000\n",
              "max         205.740000\n",
              "Name: Height_in_cms, dtype: float64"
            ]
          },
          "metadata": {},
          "execution_count": 35
        }
      ]
    },
    {
      "cell_type": "code",
      "metadata": {
        "colab": {
          "base_uri": "https://localhost:8080/"
        },
        "id": "flexible-winning",
        "outputId": "af4bf22c-d894-4b4e-eae0-6b29cf4dc2d0"
      },
      "source": [
        "data[\"HomeTeamAbbr\"].value_counts() #need domain knowledge"
      ],
      "id": "flexible-winning",
      "execution_count": null,
      "outputs": [
        {
          "output_type": "execute_result",
          "data": {
            "text/plain": [
              "SF     23848\n",
              "BUF    23210\n",
              "OAK    22748\n",
              "IND    22440\n",
              "NYG    22308\n",
              "CIN    22242\n",
              "NE     22176\n",
              "LA     21956\n",
              "NYJ    21912\n",
              "GB     21736\n",
              "SEA    21648\n",
              "TEN    21648\n",
              "CLE    21626\n",
              "MIN    21604\n",
              "DEN    21582\n",
              "WAS    21538\n",
              "DAL    21362\n",
              "BAL    21318\n",
              "ARI    21252\n",
              "MIA    21164\n",
              "LAC    21120\n",
              "HOU    20988\n",
              "NO     20922\n",
              "CHI    20526\n",
              "DET    20416\n",
              "PIT    20350\n",
              "PHI    20218\n",
              "JAX    20174\n",
              "KC     20152\n",
              "ATL    19932\n",
              "TB     19074\n",
              "CAR    18964\n",
              "Name: HomeTeamAbbr, dtype: int64"
            ]
          },
          "metadata": {},
          "execution_count": 36
        }
      ]
    },
    {
      "cell_type": "code",
      "metadata": {
        "colab": {
          "base_uri": "https://localhost:8080/",
          "height": 297
        },
        "id": "worst-liverpool",
        "outputId": "3390de31-072b-4e86-f280-a78a8998ac5d"
      },
      "source": [
        "ax = sns.countplot(x=\"HomeTeamAbbr\", data=data)\n",
        "\n",
        "ax.set_xticklabels(ax.get_xticklabels(), rotation=90, ha=\"right\")\n",
        "plt.tight_layout()\n",
        "plt.show()"
      ],
      "id": "worst-liverpool",
      "execution_count": null,
      "outputs": [
        {
          "output_type": "display_data",
          "data": {
            "image/png": "[encoded data removed]",
            "text/plain": [
              "<Figure size 432x288 with 1 Axes>"
            ]
          },
          "metadata": {
            "needs_background": "light"
          }
        }
      ]
    },
    {
      "cell_type": "code",
      "metadata": {
        "colab": {
          "base_uri": "https://localhost:8080/"
        },
        "id": "civilian-professor",
        "outputId": "236403a4-0fe9-4601-f3e6-e2d6db5d9c43"
      },
      "source": [
        "data[\"HomeTeamAbbr\"].describe()"
      ],
      "id": "civilian-professor",
      "execution_count": null,
      "outputs": [
        {
          "output_type": "execute_result",
          "data": {
            "text/plain": [
              "count     682154\n",
              "unique        32\n",
              "top           SF\n",
              "freq       23848\n",
              "Name: HomeTeamAbbr, dtype: object"
            ]
          },
          "metadata": {},
          "execution_count": 38
        }
      ]
    },
    {
      "cell_type": "code",
      "metadata": {
        "colab": {
          "base_uri": "https://localhost:8080/"
        },
        "id": "typical-platinum",
        "outputId": "13d6f85f-6903-4677-a790-69690c70cab8"
      },
      "source": [
        "data[\"Stadium\"].describe()"
      ],
      "id": "typical-platinum",
      "execution_count": null,
      "outputs": [
        {
          "output_type": "execute_result",
          "data": {
            "text/plain": [
              "count              682154\n",
              "unique                 61\n",
              "top       MetLife Stadium\n",
              "freq                31702\n",
              "Name: Stadium, dtype: object"
            ]
          },
          "metadata": {},
          "execution_count": 39
        }
      ]
    },
    {
      "cell_type": "code",
      "metadata": {
        "colab": {
          "base_uri": "https://localhost:8080/"
        },
        "id": "studied-sharing",
        "outputId": "94503cc5-fd6c-43bb-b377-35e565f66114"
      },
      "source": [
        "data[\"Stadium\"].isnull().value_counts()"
      ],
      "id": "studied-sharing",
      "execution_count": null,
      "outputs": [
        {
          "output_type": "execute_result",
          "data": {
            "text/plain": [
              "False    682154\n",
              "Name: Stadium, dtype: int64"
            ]
          },
          "metadata": {},
          "execution_count": 40
        }
      ]
    },
    {
      "cell_type": "code",
      "metadata": {
        "colab": {
          "base_uri": "https://localhost:8080/"
        },
        "id": "alleged-stevens",
        "outputId": "1ef001e9-7c15-4225-b9c2-68241795b001"
      },
      "source": [
        "data[[\"StadiumType\"]].isnull().value_counts()"
      ],
      "id": "alleged-stevens",
      "execution_count": null,
      "outputs": [
        {
          "output_type": "execute_result",
          "data": {
            "text/plain": [
              "StadiumType\n",
              "False          640464\n",
              "True            41690\n",
              "dtype: int64"
            ]
          },
          "metadata": {},
          "execution_count": 41
        }
      ]
    },
    {
      "cell_type": "code",
      "metadata": {
        "colab": {
          "base_uri": "https://localhost:8080/"
        },
        "id": "hollywood-notice",
        "outputId": "b13e9fec-9a96-4dc5-a9d3-a223dafe04fc"
      },
      "source": [
        "data[\"StadiumType\"].value_counts()"
      ],
      "id": "hollywood-notice",
      "execution_count": null,
      "outputs": [
        {
          "output_type": "execute_result",
          "data": {
            "text/plain": [
              "Outdoor                      362516\n",
              "Outdoors                      92708\n",
              "Indoors                       56826\n",
              "Dome                          23122\n",
              "Indoor                        19140\n",
              "Retractable Roof              18766\n",
              "Open                          11308\n",
              "Retr. Roof-Closed             11044\n",
              "Domed, closed                  6908\n",
              "Retr. Roof - Closed            6446\n",
              "Domed, open                    3696\n",
              "Retr. Roof-Open                3014\n",
              "Retractable Roof - Closed      2222\n",
              "Closed Dome                    2134\n",
              "Dome, closed                   1826\n",
              "Domed                          1826\n",
              "Domed, Open                    1760\n",
              "OUTDOOR                        1254\n",
              "Oudoor                         1188\n",
              "indoor                         1166\n",
              "Retr. Roof Closed              1056\n",
              "Indoor, Roof Closed            1056\n",
              "Bowl                            968\n",
              "Outddors                        968\n",
              "Heinz Field                     902\n",
              "Outdoor Retr Roof-Open          880\n",
              "Retr. Roof - Open               880\n",
              "Ourdoor                         858\n",
              "Indoor, Open Roof               858\n",
              "Outdor                          858\n",
              "Outside                         814\n",
              "Cloudy                          770\n",
              "Indoor, roof open               726\n",
              "Name: StadiumType, dtype: int64"
            ]
          },
          "metadata": {},
          "execution_count": 42
        }
      ]
    },
    {
      "cell_type": "code",
      "metadata": {
        "colab": {
          "base_uri": "https://localhost:8080/"
        },
        "id": "settled-potato",
        "outputId": "17c6f0dd-90ab-44f3-f8d5-9dc3a5b3a861"
      },
      "source": [
        "data.groupby([\"Stadium\",\"StadiumType\"]).size()"
      ],
      "id": "settled-potato",
      "execution_count": null,
      "outputs": [
        {
          "output_type": "execute_result",
          "data": {
            "text/plain": [
              "Stadium                        StadiumType           \n",
              "AT&T Stadium                   Indoor                    12804\n",
              "                               Indoors                    3828\n",
              "                               OUTDOOR                    1254\n",
              "                               Outdoor                    1166\n",
              "                               Outdoors                   1144\n",
              "                                                         ...  \n",
              "U.S. Bank Stadium              Indoors                   15268\n",
              "University of Phoenix Stadium  Dome                       6732\n",
              "                               Outdoor Retr Roof-Open      880\n",
              "Wembley Stadium                Outdoor                     836\n",
              "                               Outdoors                   5588\n",
              "Length: 93, dtype: int64"
            ]
          },
          "metadata": {},
          "execution_count": 43
        }
      ]
    },
    {
      "cell_type": "code",
      "metadata": {
        "colab": {
          "base_uri": "https://localhost:8080/"
        },
        "id": "national-brand",
        "outputId": "7791a738-3145-43c7-a649-98a6ad5fd3dd"
      },
      "source": [
        "data.loc[data[\"StadiumType\"].isnull()][\"Stadium\"].value_counts()"
      ],
      "id": "national-brand",
      "execution_count": null,
      "outputs": [
        {
          "output_type": "execute_result",
          "data": {
            "text/plain": [
              "MetLife Stadium               21406\n",
              "StubHub Center                14630\n",
              "Dignity Health Sports Park     4686\n",
              "TIAA Bank Field                 968\n",
              "Name: Stadium, dtype: int64"
            ]
          },
          "metadata": {},
          "execution_count": 44
        }
      ]
    },
    {
      "cell_type": "code",
      "metadata": {
        "colab": {
          "base_uri": "https://localhost:8080/"
        },
        "id": "later-october",
        "outputId": "dc8e85cc-5cf0-4db2-c0c0-6deb31d59a6a"
      },
      "source": [
        "data.loc[data[\"Stadium\"] == \"Metlife Stadium\"][\"StadiumType\"].value_counts()"
      ],
      "id": "later-october",
      "execution_count": null,
      "outputs": [
        {
          "output_type": "execute_result",
          "data": {
            "text/plain": [
              "Outdoor    836\n",
              "Name: StadiumType, dtype: int64"
            ]
          },
          "metadata": {},
          "execution_count": 45
        }
      ]
    },
    {
      "cell_type": "code",
      "metadata": {
        "colab": {
          "base_uri": "https://localhost:8080/"
        },
        "id": "spectacular-belly",
        "outputId": "95c3c156-1b53-431c-bd75-38065919aff4"
      },
      "source": [
        "#data.loc[data[\"Stadium\"] == \"StubHub Center\"][\"StadiumType\"].value_counts()\n",
        "data.loc[data[\"Stadium\"] == \"TIAA Bank Field\"][\"StadiumType\"].value_counts()"
      ],
      "id": "spectacular-belly",
      "execution_count": null,
      "outputs": [
        {
          "output_type": "execute_result",
          "data": {
            "text/plain": [
              "Open       3630\n",
              "Outdoor    3498\n",
              "Bowl        968\n",
              "Cloudy      770\n",
              "Name: StadiumType, dtype: int64"
            ]
          },
          "metadata": {},
          "execution_count": 46
        }
      ]
    },
    {
      "cell_type": "code",
      "metadata": {
        "id": "centered-vampire"
      },
      "source": [
        "#All missing values stadiumtype are outdoor stadium \n",
        "\n",
        "data['StadiumType'].fillna(value= \"outdoor\", inplace=True)\n"
      ],
      "id": "centered-vampire",
      "execution_count": null,
      "outputs": []
    },
    {
      "cell_type": "code",
      "metadata": {
        "colab": {
          "base_uri": "https://localhost:8080/"
        },
        "id": "declared-greek",
        "outputId": "d149a833-0ae4-47dd-b6e2-4f1243a3d0e0"
      },
      "source": [
        "data[\"StadiumType\"].isnull().any()"
      ],
      "id": "declared-greek",
      "execution_count": null,
      "outputs": [
        {
          "output_type": "execute_result",
          "data": {
            "text/plain": [
              "False"
            ]
          },
          "metadata": {},
          "execution_count": 48
        }
      ]
    },
    {
      "cell_type": "code",
      "metadata": {
        "id": "sweet-rings"
      },
      "source": [
        "def StadiumType(X):\n",
        "    X.replace(\"Outdoor\",\"outdoor\",inplace = True)\n",
        "    X.replace(\"Open\",\"outdoor\",inplace = True)\n",
        "    X.replace(\"Cloudy\",\"outdoor\",inplace = True)\n",
        "    X.replace(\"Bowl\",\"outdoor\",inplace = True)\n",
        "    X.replace(\"Outdoors\",\"outdoor\",inplace = True)\n",
        "    X.replace(\"OUTDOOR\",\"outdoor\",inplace = True)\n",
        "    X.replace(\"Oudoor\",\"outdoor\",inplace = True)\n",
        "    X.replace(\"Outddors\",\"outdoor\",inplace = True)\n",
        "    X.replace(\"Outside\",\"outdoor\",inplace = True)\n",
        "    X.replace(\"Ourdoor\",\"outdoor\",inplace = True)\n",
        "    X.replace(\"Outddors\",\"outdoor\",inplace = True)\n",
        "    X.replace(\"Outdor\",\"outdoor\",inplace = True)\n",
        "    X.replace(\"Indoors\",\"indoor\",inplace = True)\n",
        "    X.replace(\"Indoor\",\"indoor\",inplace = True)\n",
        "    X.replace(\"indoor\",\"indoor\",inplace = True)\n",
        "    X.replace(\"Indoors\",\"indoor\",inplace = True)\n",
        "    X.replace(\"Domed\",\"dome\",inplace = True)\n",
        "    X.replace(\"Heinz Field\",\"outdoor\",inplace = True)\n",
        "    \n",
        "StadiumType(data[\"StadiumType\"])    "
      ],
      "id": "sweet-rings",
      "execution_count": null,
      "outputs": []
    },
    {
      "cell_type": "code",
      "metadata": {
        "id": "injured-patrick"
      },
      "source": [
        "data[\"StadiumType\"] = data[\"StadiumType\"].apply(lambda x: x.lower())"
      ],
      "id": "injured-patrick",
      "execution_count": null,
      "outputs": []
    },
    {
      "cell_type": "code",
      "metadata": {
        "id": "turkish-anaheim"
      },
      "source": [
        "data[\"StadiumType\"] = data[\"StadiumType\"].apply(lambda x: \"outdoor\" if \"closed\" in x else x)\n",
        "data[\"StadiumType\"] = data[\"StadiumType\"].apply(lambda x: \"indoor\" if \"open\" in x else x)"
      ],
      "id": "turkish-anaheim",
      "execution_count": null,
      "outputs": []
    },
    {
      "cell_type": "code",
      "metadata": {
        "colab": {
          "base_uri": "https://localhost:8080/"
        },
        "id": "alleged-attention",
        "outputId": "37222b1c-3cb3-4630-9847-ea4e7125242e"
      },
      "source": [
        "data[\"StadiumType\"].value_counts()  #only 4 categories. outdoor, indoor, dome, retractable roof, d"
      ],
      "id": "alleged-attention",
      "execution_count": null,
      "outputs": [
        {
          "output_type": "execute_result",
          "data": {
            "text/plain": [
              "outdoor             549494\n",
              "indoor               88946\n",
              "dome                 24948\n",
              "retractable roof     18766\n",
              "Name: StadiumType, dtype: int64"
            ]
          },
          "metadata": {},
          "execution_count": 52
        }
      ]
    },
    {
      "cell_type": "code",
      "metadata": {
        "colab": {
          "base_uri": "https://localhost:8080/"
        },
        "id": "touched-wright",
        "outputId": "ca1556e1-fe9d-4bf6-ff12-413cca649d10"
      },
      "source": [
        "data[\"WindSpeed\"].value_counts()"
      ],
      "id": "touched-wright",
      "execution_count": null,
      "outputs": [
        {
          "output_type": "execute_result",
          "data": {
            "text/plain": [
              "5                    36102\n",
              "5.0                  30162\n",
              "7.0                  27544\n",
              "6.0                  26540\n",
              "7                    24750\n",
              "                     ...  \n",
              "SSE                    836\n",
              "15 gusts up to 25      836\n",
              "9mph                   792\n",
              "11-17                  726\n",
              "19                     660\n",
              "Name: WindSpeed, Length: 69, dtype: int64"
            ]
          },
          "metadata": {},
          "execution_count": 53
        }
      ]
    },
    {
      "cell_type": "code",
      "metadata": {
        "id": "considered-price"
      },
      "source": [
        "data[\"WindSpeed\"] = data[\"WindSpeed\"].astype(str)"
      ],
      "id": "considered-price",
      "execution_count": null,
      "outputs": []
    },
    {
      "cell_type": "code",
      "metadata": {
        "colab": {
          "base_uri": "https://localhost:8080/"
        },
        "id": "civil-quick",
        "outputId": "763c7bbf-b8af-452d-e215-cc5672a994f5"
      },
      "source": [
        "data[\"WindSpeed\"].value_counts()"
      ],
      "id": "civil-quick",
      "execution_count": null,
      "outputs": [
        {
          "output_type": "execute_result",
          "data": {
            "text/plain": [
              "nan                  91872\n",
              "5                    42768\n",
              "6                    29964\n",
              "7                    29326\n",
              "3                    25824\n",
              "                     ...  \n",
              "15 gusts up to 25      836\n",
              "SSE                    836\n",
              "22                     836\n",
              "9mph                   792\n",
              "11-17                  726\n",
              "Name: WindSpeed, Length: 70, dtype: int64"
            ]
          },
          "metadata": {},
          "execution_count": 55
        }
      ]
    },
    {
      "cell_type": "code",
      "metadata": {
        "id": "prerequisite-ladder"
      },
      "source": [
        "def WindSpeed(X):\n",
        "    X['WindSpeed_dc'] = X['WindSpeed'].apply(lambda x: x.lower().replace('mph', '').strip() if not pd.isna(x) else x)\n",
        "    X['WindSpeed_dc'] = X['WindSpeed_dc'].apply(lambda x: x.replace(', gusts to ', '').strip().split()[0] if not pd.isna(x) else x)\n",
        "    X['WindSpeed_dc'] = X['WindSpeed_dc'].apply(lambda x: (int(x.split('-')[0])+int(x.split('-')[1]))/2 if not pd.isna(x) and '-' in x else x)\n",
        "    X[\"WindSpeed_dc\"].replace(\"calm\",0,inplace = True)\n",
        "    X[\"WindSpeed_dc\"] = X[\"WindSpeed_dc\"].apply(pd.to_numeric, errors='coerce').fillna(X[\"WindSpeed_dc\"].mode())\n",
        "    X[\"WindSpeed_dc\"].replace(np.nan, X[\"WindSpeed_dc\"].mean(),inplace = True)\n",
        "    \n",
        "WindSpeed(data)"
      ],
      "id": "prerequisite-ladder",
      "execution_count": null,
      "outputs": []
    },
    {
      "cell_type": "code",
      "metadata": {
        "colab": {
          "base_uri": "https://localhost:8080/"
        },
        "id": "rolled-keyboard",
        "outputId": "e4934070-0f5f-4f3c-ad74-13488c5e86fb"
      },
      "source": [
        "data[\"WindSpeed_dc\"].value_counts() #need to impute missing value"
      ],
      "id": "rolled-keyboard",
      "execution_count": null,
      "outputs": [
        {
          "output_type": "execute_result",
          "data": {
            "text/plain": [
              "7.593078     96690\n",
              "5.000000     66264\n",
              "7.000000     53394\n",
              "6.000000     53020\n",
              "10.000000    46860\n",
              "4.000000     42592\n",
              "9.000000     41690\n",
              "3.000000     39952\n",
              "8.000000     38940\n",
              "2.000000     33902\n",
              "12.000000    32516\n",
              "11.000000    23870\n",
              "15.000000    19998\n",
              "13.000000    19426\n",
              "0.000000     16764\n",
              "1.000000     15708\n",
              "16.000000    10978\n",
              "14.000000     9702\n",
              "17.000000     7942\n",
              "18.000000     3102\n",
              "23.000000     2156\n",
              "20.000000     2090\n",
              "19.000000     1826\n",
              "18.500000      968\n",
              "24.000000      968\n",
              "22.000000      836\n",
              "Name: WindSpeed_dc, dtype: int64"
            ]
          },
          "metadata": {},
          "execution_count": 57
        }
      ]
    },
    {
      "cell_type": "code",
      "metadata": {
        "colab": {
          "base_uri": "https://localhost:8080/"
        },
        "id": "boolean-titanium",
        "outputId": "6a79caab-a2fe-4387-a0f2-9fb6c67e7960"
      },
      "source": [
        "data[\"WindSpeed_dc\"].isnull().any()"
      ],
      "id": "boolean-titanium",
      "execution_count": null,
      "outputs": [
        {
          "output_type": "execute_result",
          "data": {
            "text/plain": [
              "False"
            ]
          },
          "metadata": {},
          "execution_count": 58
        }
      ]
    },
    {
      "cell_type": "code",
      "metadata": {
        "colab": {
          "base_uri": "https://localhost:8080/"
        },
        "id": "affecting-female",
        "outputId": "f29cdbc9-ee6d-4542-9e51-61ae43fd7ab3"
      },
      "source": [
        "data[\"WindSpeed_dc\"].describe()"
      ],
      "id": "affecting-female",
      "execution_count": null,
      "outputs": [
        {
          "output_type": "execute_result",
          "data": {
            "text/plain": [
              "count    682154.000000\n",
              "mean          7.593078\n",
              "std           4.100317\n",
              "min           0.000000\n",
              "25%           5.000000\n",
              "50%           7.593078\n",
              "75%          10.000000\n",
              "max          24.000000\n",
              "Name: WindSpeed_dc, dtype: float64"
            ]
          },
          "metadata": {},
          "execution_count": 59
        }
      ]
    },
    {
      "cell_type": "code",
      "metadata": {
        "colab": {
          "base_uri": "https://localhost:8080/",
          "height": 282
        },
        "id": "instrumental-timeline",
        "outputId": "501b04c8-0e0a-4ce5-b831-ada0102e2c5a"
      },
      "source": [
        "data[\"WindSpeed_dc\"].hist()"
      ],
      "id": "instrumental-timeline",
      "execution_count": null,
      "outputs": [
        {
          "output_type": "execute_result",
          "data": {
            "text/plain": [
              "<matplotlib.axes._subplots.AxesSubplot at 0x7f769a31cfd0>"
            ]
          },
          "metadata": {},
          "execution_count": 60
        },
        {
          "output_type": "display_data",
          "data": {
            "image/png": "[encoded data removed]",
            "text/plain": [
              "<Figure size 432x288 with 1 Axes>"
            ]
          },
          "metadata": {
            "needs_background": "light"
          }
        }
      ]
    },
    {
      "cell_type": "code",
      "metadata": {
        "id": "promotional-palace"
      },
      "source": [
        "#data[\"WindDirection\"].value_counts()"
      ],
      "id": "promotional-palace",
      "execution_count": null,
      "outputs": []
    },
    {
      "cell_type": "code",
      "metadata": {
        "id": "objective-timothy"
      },
      "source": [
        "def WindDirection(X):\n",
        "    X = X.str.replace(\"from\",\"\")\n",
        "    X = X.str.replace(\"From\",\"\")\n",
        "    X.replace(\"From SW\",\"SW\",inplace = True)\n",
        "    X.replace(\"Southwest\",\"SW\",inplace = True)\n",
        "    X.replace(\"South\",\"S\",inplace = True)\n",
        "    X.replace(\"Northwest\",\"NW\",inplace = True)\n",
        "    X.replace(\"South west\",\"SW\",inplace = True)\n",
        "    X.replace(\"South Southwest\",\"SSW\",inplace = True)\n",
        "    X.replace(\"Southerly\",\"S\",inplace = True)\n",
        "    X.replace(\"NorthEast\",\"NE\",inplace = True)\n",
        "    X.replace(\"NorthEast\",\"NE\",inplace = True)\n",
        "    X.replace(\"Northeast\",\"NE\",inplace = True)\n",
        "    X.replace(\"North\",\"N\",inplace = True)\n",
        "    X.replace(\"East\",\"E\",inplace = True)\n",
        "    X.replace(\"North East\",\"NE\",inplace = True)\n",
        "    X.replace(\"West\",\"W\",inplace = True)\n",
        "    X.replace(\"South\",\"S\",inplace = True)\n",
        "    #X.replace(\"From SW\",\"SW\",inplace = True)\n",
        "    X.replace(\"From SW\",\"SW\",inplace = True)\n",
        "    \n",
        "#WindDirection(data[\"WindDirection\"])"
      ],
      "id": "objective-timothy",
      "execution_count": null,
      "outputs": []
    },
    {
      "cell_type": "code",
      "metadata": {
        "colab": {
          "base_uri": "https://localhost:8080/"
        },
        "id": "genetic-princess",
        "outputId": "eac34c4b-3738-4266-8c94-67cf5040448d"
      },
      "source": [
        "data.info()"
      ],
      "id": "genetic-princess",
      "execution_count": null,
      "outputs": [
        {
          "output_type": "stream",
          "name": "stdout",
          "text": [
            "<class 'pandas.core.frame.DataFrame'>\n",
            "RangeIndex: 682154 entries, 0 to 682153\n",
            "Data columns (total 58 columns):\n",
            " #   Column                  Non-Null Count   Dtype  \n",
            "---  ------                  --------------   -----  \n",
            " 0   Unnamed: 0              682154 non-null  int64  \n",
            " 1   GameId                  682154 non-null  int64  \n",
            " 2   PlayId                  682154 non-null  int64  \n",
            " 3   Team                    682154 non-null  object \n",
            " 4   X                       682154 non-null  float64\n",
            " 5   Y                       682154 non-null  float64\n",
            " 6   S                       682154 non-null  float64\n",
            " 7   A                       682154 non-null  float64\n",
            " 8   Dis                     682154 non-null  float64\n",
            " 9   Orientation             682131 non-null  float64\n",
            " 10  Dir                     682126 non-null  float64\n",
            " 11  NflId                   682154 non-null  int64  \n",
            " 12  DisplayName             682154 non-null  object \n",
            " 13  JerseyNumber            682154 non-null  int64  \n",
            " 14  Season                  682154 non-null  int64  \n",
            " 15  YardLine                682154 non-null  int64  \n",
            " 16  Quarter                 682154 non-null  int64  \n",
            " 17  GameClock               682154 non-null  object \n",
            " 18  PossessionTeam          682154 non-null  object \n",
            " 19  Down                    682154 non-null  int64  \n",
            " 20  Distance                682154 non-null  int64  \n",
            " 21  FieldPosition           673552 non-null  object \n",
            " 22  HomeScoreBeforePlay     682154 non-null  int64  \n",
            " 23  VisitorScoreBeforePlay  682154 non-null  int64  \n",
            " 24  NflIdRusher             682154 non-null  int64  \n",
            " 25  OffenseFormation        682066 non-null  object \n",
            " 26  OffensePersonnel        682154 non-null  object \n",
            " 27  DefendersInTheBox       682132 non-null  float64\n",
            " 28  DefensePersonnel        682154 non-null  object \n",
            " 29  PlayDirection           682154 non-null  object \n",
            " 30  TimeHandoff             682154 non-null  object \n",
            " 31  TimeSnap                682154 non-null  object \n",
            " 32  Yards                   682154 non-null  int64  \n",
            " 33  PlayerHeight            682154 non-null  object \n",
            " 34  PlayerWeight            682154 non-null  int64  \n",
            " 35  PlayerBirthDate         682154 non-null  object \n",
            " 36  PlayerCollegeName       682154 non-null  object \n",
            " 37  Position                682154 non-null  object \n",
            " 38  HomeTeamAbbr            682154 non-null  object \n",
            " 39  VisitorTeamAbbr         682154 non-null  object \n",
            " 40  Week                    682154 non-null  int64  \n",
            " 41  Stadium                 682154 non-null  object \n",
            " 42  Location                682154 non-null  object \n",
            " 43  StadiumType             682154 non-null  object \n",
            " 44  Turf                    682154 non-null  object \n",
            " 45  GameWeather             621984 non-null  object \n",
            " 46  Temperature             618508 non-null  float64\n",
            " 47  Humidity                675994 non-null  float64\n",
            " 48  WindSpeed               682154 non-null  object \n",
            " 49  WindDirection           577478 non-null  object \n",
            " 50  unique_idx              682154 non-null  int64  \n",
            " 51  DP_DL                   682154 non-null  int64  \n",
            " 52  DP_LB                   682154 non-null  int64  \n",
            " 53  DP_DB                   682154 non-null  int64  \n",
            " 54  DP_RB                   682154 non-null  int64  \n",
            " 55  DP_OL                   682154 non-null  int64  \n",
            " 56  Height_in_cms           682154 non-null  float64\n",
            " 57  WindSpeed_dc            682154 non-null  float64\n",
            "dtypes: float64(12), int64(22), object(24)\n",
            "memory usage: 301.9+ MB\n"
          ]
        }
      ]
    },
    {
      "cell_type": "code",
      "metadata": {
        "id": "amazing-retailer"
      },
      "source": [
        "data_new = data[[\"Team\",\"Dis\",\"PossessionTeam\", \"VisitorScoreBeforePlay\",\"DP_DL\",\"DP_LB\",\"DP_DB\",\"DP_RB\",\"DP_OL\",\"Height_in_cms\",\"WindSpeed_dc\",\"StadiumType\",\"HomeTeamAbbr\"]]"
      ],
      "id": "amazing-retailer",
      "execution_count": null,
      "outputs": []
    },
    {
      "cell_type": "code",
      "metadata": {
        "colab": {
          "base_uri": "https://localhost:8080/"
        },
        "id": "abstract-elevation",
        "outputId": "305b22b6-958f-4025-ce9f-654a0510a95b"
      },
      "source": [
        "data_new['unique_idx'] = range(1, len(data_new.index)+1)"
      ],
      "id": "abstract-elevation",
      "execution_count": null,
      "outputs": [
        {
          "output_type": "stream",
          "name": "stderr",
          "text": [
            "/usr/local/lib/python3.7/dist-packages/ipykernel_launcher.py:1: SettingWithCopyWarning: \n",
            "A value is trying to be set on a copy of a slice from a DataFrame.\n",
            "Try using .loc[row_indexer,col_indexer] = value instead\n",
            "\n",
            "See the caveats in the documentation: https://pandas.pydata.org/pandas-docs/stable/user_guide/indexing.html#returning-a-view-versus-a-copy\n",
            "  \"\"\"Entry point for launching an IPython kernel.\n"
          ]
        }
      ]
    },
    {
      "cell_type": "code",
      "metadata": {
        "colab": {
          "base_uri": "https://localhost:8080/",
          "height": 383
        },
        "id": "insured-greece",
        "outputId": "e5f3f93d-1441-4008-cff3-f52071ce6516"
      },
      "source": [
        "data_new.head(10)"
      ],
      "id": "insured-greece",
      "execution_count": null,
      "outputs": [
        {
          "output_type": "execute_result",
          "data": {
            "text/html": [
              "<div>\n",
              "<style scoped>\n",
              "    .dataframe tbody tr th:only-of-type {\n",
              "        vertical-align: middle;\n",
              "    }\n",
              "\n",
              "    .dataframe tbody tr th {\n",
              "        vertical-align: top;\n",
              "    }\n",
              "\n",
              "    .dataframe thead th {\n",
              "        text-align: right;\n",
              "    }\n",
              "</style>\n",
              "<table border=\"1\" class=\"dataframe\">\n",
              "  <thead>\n",
              "    <tr style=\"text-align: right;\">\n",
              "      <th></th>\n",
              "      <th>Team</th>\n",
              "      <th>Dis</th>\n",
              "      <th>PossessionTeam</th>\n",
              "      <th>VisitorScoreBeforePlay</th>\n",
              "      <th>DP_DL</th>\n",
              "      <th>DP_LB</th>\n",
              "      <th>DP_DB</th>\n",
              "      <th>DP_RB</th>\n",
              "      <th>DP_OL</th>\n",
              "      <th>Height_in_cms</th>\n",
              "      <th>WindSpeed_dc</th>\n",
              "      <th>StadiumType</th>\n",
              "      <th>HomeTeamAbbr</th>\n",
              "      <th>unique_idx</th>\n",
              "    </tr>\n",
              "  </thead>\n",
              "  <tbody>\n",
              "    <tr>\n",
              "      <th>0</th>\n",
              "      <td>away</td>\n",
              "      <td>0.40</td>\n",
              "      <td>NE</td>\n",
              "      <td>0</td>\n",
              "      <td>2</td>\n",
              "      <td>3</td>\n",
              "      <td>6</td>\n",
              "      <td>0</td>\n",
              "      <td>0</td>\n",
              "      <td>182.88</td>\n",
              "      <td>8.0</td>\n",
              "      <td>outdoor</td>\n",
              "      <td>NE</td>\n",
              "      <td>1</td>\n",
              "    </tr>\n",
              "    <tr>\n",
              "      <th>1</th>\n",
              "      <td>away</td>\n",
              "      <td>0.01</td>\n",
              "      <td>NE</td>\n",
              "      <td>0</td>\n",
              "      <td>2</td>\n",
              "      <td>3</td>\n",
              "      <td>6</td>\n",
              "      <td>0</td>\n",
              "      <td>0</td>\n",
              "      <td>190.50</td>\n",
              "      <td>8.0</td>\n",
              "      <td>outdoor</td>\n",
              "      <td>NE</td>\n",
              "      <td>2</td>\n",
              "    </tr>\n",
              "    <tr>\n",
              "      <th>2</th>\n",
              "      <td>away</td>\n",
              "      <td>0.31</td>\n",
              "      <td>NE</td>\n",
              "      <td>0</td>\n",
              "      <td>2</td>\n",
              "      <td>3</td>\n",
              "      <td>6</td>\n",
              "      <td>0</td>\n",
              "      <td>0</td>\n",
              "      <td>190.50</td>\n",
              "      <td>8.0</td>\n",
              "      <td>outdoor</td>\n",
              "      <td>NE</td>\n",
              "      <td>3</td>\n",
              "    </tr>\n",
              "    <tr>\n",
              "      <th>3</th>\n",
              "      <td>away</td>\n",
              "      <td>0.02</td>\n",
              "      <td>NE</td>\n",
              "      <td>0</td>\n",
              "      <td>2</td>\n",
              "      <td>3</td>\n",
              "      <td>6</td>\n",
              "      <td>0</td>\n",
              "      <td>0</td>\n",
              "      <td>190.50</td>\n",
              "      <td>8.0</td>\n",
              "      <td>outdoor</td>\n",
              "      <td>NE</td>\n",
              "      <td>4</td>\n",
              "    </tr>\n",
              "    <tr>\n",
              "      <th>4</th>\n",
              "      <td>away</td>\n",
              "      <td>0.16</td>\n",
              "      <td>NE</td>\n",
              "      <td>0</td>\n",
              "      <td>2</td>\n",
              "      <td>3</td>\n",
              "      <td>6</td>\n",
              "      <td>0</td>\n",
              "      <td>0</td>\n",
              "      <td>182.88</td>\n",
              "      <td>8.0</td>\n",
              "      <td>outdoor</td>\n",
              "      <td>NE</td>\n",
              "      <td>5</td>\n",
              "    </tr>\n",
              "    <tr>\n",
              "      <th>5</th>\n",
              "      <td>away</td>\n",
              "      <td>0.18</td>\n",
              "      <td>NE</td>\n",
              "      <td>0</td>\n",
              "      <td>2</td>\n",
              "      <td>3</td>\n",
              "      <td>6</td>\n",
              "      <td>0</td>\n",
              "      <td>0</td>\n",
              "      <td>187.96</td>\n",
              "      <td>8.0</td>\n",
              "      <td>outdoor</td>\n",
              "      <td>NE</td>\n",
              "      <td>6</td>\n",
              "    </tr>\n",
              "    <tr>\n",
              "      <th>6</th>\n",
              "      <td>away</td>\n",
              "      <td>0.02</td>\n",
              "      <td>NE</td>\n",
              "      <td>0</td>\n",
              "      <td>2</td>\n",
              "      <td>3</td>\n",
              "      <td>6</td>\n",
              "      <td>0</td>\n",
              "      <td>0</td>\n",
              "      <td>180.34</td>\n",
              "      <td>8.0</td>\n",
              "      <td>outdoor</td>\n",
              "      <td>NE</td>\n",
              "      <td>7</td>\n",
              "    </tr>\n",
              "    <tr>\n",
              "      <th>7</th>\n",
              "      <td>away</td>\n",
              "      <td>0.13</td>\n",
              "      <td>NE</td>\n",
              "      <td>0</td>\n",
              "      <td>2</td>\n",
              "      <td>3</td>\n",
              "      <td>6</td>\n",
              "      <td>0</td>\n",
              "      <td>0</td>\n",
              "      <td>182.88</td>\n",
              "      <td>8.0</td>\n",
              "      <td>outdoor</td>\n",
              "      <td>NE</td>\n",
              "      <td>8</td>\n",
              "    </tr>\n",
              "    <tr>\n",
              "      <th>8</th>\n",
              "      <td>away</td>\n",
              "      <td>0.28</td>\n",
              "      <td>NE</td>\n",
              "      <td>0</td>\n",
              "      <td>2</td>\n",
              "      <td>3</td>\n",
              "      <td>6</td>\n",
              "      <td>0</td>\n",
              "      <td>0</td>\n",
              "      <td>187.96</td>\n",
              "      <td>8.0</td>\n",
              "      <td>outdoor</td>\n",
              "      <td>NE</td>\n",
              "      <td>9</td>\n",
              "    </tr>\n",
              "    <tr>\n",
              "      <th>9</th>\n",
              "      <td>away</td>\n",
              "      <td>0.51</td>\n",
              "      <td>NE</td>\n",
              "      <td>0</td>\n",
              "      <td>2</td>\n",
              "      <td>3</td>\n",
              "      <td>6</td>\n",
              "      <td>0</td>\n",
              "      <td>0</td>\n",
              "      <td>182.88</td>\n",
              "      <td>8.0</td>\n",
              "      <td>outdoor</td>\n",
              "      <td>NE</td>\n",
              "      <td>10</td>\n",
              "    </tr>\n",
              "  </tbody>\n",
              "</table>\n",
              "</div>"
            ],
            "text/plain": [
              "   Team   Dis PossessionTeam  ...  StadiumType  HomeTeamAbbr  unique_idx\n",
              "0  away  0.40             NE  ...      outdoor            NE           1\n",
              "1  away  0.01             NE  ...      outdoor            NE           2\n",
              "2  away  0.31             NE  ...      outdoor            NE           3\n",
              "3  away  0.02             NE  ...      outdoor            NE           4\n",
              "4  away  0.16             NE  ...      outdoor            NE           5\n",
              "5  away  0.18             NE  ...      outdoor            NE           6\n",
              "6  away  0.02             NE  ...      outdoor            NE           7\n",
              "7  away  0.13             NE  ...      outdoor            NE           8\n",
              "8  away  0.28             NE  ...      outdoor            NE           9\n",
              "9  away  0.51             NE  ...      outdoor            NE          10\n",
              "\n",
              "[10 rows x 14 columns]"
            ]
          },
          "metadata": {},
          "execution_count": 66
        }
      ]
    },
    {
      "cell_type": "code",
      "metadata": {
        "id": "running-meaning"
      },
      "source": [
        "data_new.to_csv(\"col_akar.csv\")"
      ],
      "id": "running-meaning",
      "execution_count": null,
      "outputs": []
    },
    {
      "cell_type": "code",
      "metadata": {
        "id": "biblical-enforcement"
      },
      "source": [
        ""
      ],
      "id": "biblical-enforcement",
      "execution_count": null,
      "outputs": []
    }
  ]
}