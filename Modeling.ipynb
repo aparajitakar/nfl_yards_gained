{
  "nbformat": 4,
  "nbformat_minor": 0,
  "metadata": {
    "colab": {
      "name": "Modeling.ipynb",
      "provenance": [],
      "collapsed_sections": [],
      "authorship_tag": "ABX9TyNVwQvBzI73ZJcRHqkttABB",
      "include_colab_link": true
    },
    "kernelspec": {
      "display_name": "Python 3",
      "name": "python3"
    },
    "language_info": {
      "name": "python"
    }
  },
  "cells": [
    {
      "cell_type": "markdown",
      "metadata": {
        "id": "view-in-github",
        "colab_type": "text"
      },
      "source": [
        "<a href=\"https://colab.research.google.com/github/aparajitakar/nfl_yards_gained/blob/main/Modeling.ipynb\" target=\"_parent\"><img src=\"https://colab.research.google.com/assets/colab-badge.svg\" alt=\"Open In Colab\"/></a>"
      ]
    },
    {
      "cell_type": "code",
      "metadata": {
        "colab": {
          "base_uri": "https://localhost:8080/"
        },
        "id": "JBC0gf8Uuura",
        "outputId": "80163977-f81f-4948-d844-bf4c0414ff48"
      },
      "source": [
        "from google.colab import drive\n",
        "drive.mount('/content/gdrive')\n",
        "# Script directory\n",
        "main_dir = '/content/gdrive/Shareddrives/CSCI 5523 Project/dev/csv/'"
      ],
      "execution_count": null,
      "outputs": [
        {
          "output_type": "stream",
          "name": "stdout",
          "text": [
            "Mounted at /content/gdrive\n"
          ]
        }
      ]
    },
    {
      "cell_type": "code",
      "metadata": {
        "id": "WC-hQT5ru-0s"
      },
      "source": [
        "import pandas as pd\n",
        "#from sklearn.ensemble import RandomForestClassifier\n",
        "df_train = pd.read_csv(main_dir + \"merged/merged_train.csv\").dropna()\n",
        "df_test = pd.read_csv(main_dir + \"merged/merged_test.csv\").dropna()"
      ],
      "execution_count": null,
      "outputs": []
    },
    {
      "cell_type": "code",
      "metadata": {
        "id": "aaW4zCk2vSKE"
      },
      "source": [
        "from sklearn.model_selection import train_test_split\n",
        "from sklearn.model_selection import cross_val_score\n",
        "from sklearn.naive_bayes import GaussianNB\n",
        "from sklearn.linear_model import LogisticRegression \n",
        "from sklearn import tree\n",
        "from sklearn.neighbors import KNeighborsClassifier\n",
        "from sklearn.ensemble import RandomForestClassifier\n",
        "from sklearn.svm import SVC\n",
        "from xgboost import XGBClassifier\n",
        "from sklearn.preprocessing import StandardScaler\n",
        "from sklearn.metrics import accuracy_score\n",
        "from sklearn.metrics import classification_report"
      ],
      "execution_count": null,
      "outputs": []
    },
    {
      "cell_type": "code",
      "metadata": {
        "colab": {
          "base_uri": "https://localhost:8080/"
        },
        "id": "2H_HjOBewJ5-",
        "outputId": "d22653ac-a7b0-4a59-b920-47c8194011b9"
      },
      "source": [
        "df_train.info()"
      ],
      "execution_count": null,
      "outputs": [
        {
          "output_type": "stream",
          "name": "stdout",
          "text": [
            "<class 'pandas.core.frame.DataFrame'>\n",
            "Int64Index: 280336 entries, 0 to 334288\n",
            "Data columns (total 53 columns):\n",
            " #   Column                  Non-Null Count   Dtype  \n",
            "---  ------                  --------------   -----  \n",
            " 0   unique_idx              280336 non-null  int64  \n",
            " 1   GameId                  280336 non-null  int64  \n",
            " 2   PlayId                  280336 non-null  int64  \n",
            " 3   A                       280336 non-null  float64\n",
            " 4   DisplayName             280336 non-null  object \n",
            " 5   GameClock               280336 non-null  float64\n",
            " 6   HomeScoreBeforePlay     280336 non-null  int64  \n",
            " 7   DefendersInTheBox       280336 non-null  float64\n",
            " 8   Position                280336 non-null  object \n",
            " 9   YardBins                280336 non-null  object \n",
            " 10  HumidityNoNull          280336 non-null  float64\n",
            " 11  S                       280336 non-null  float64\n",
            " 12  S_binned                280336 non-null  int64  \n",
            " 13  Quarter                 280336 non-null  int64  \n",
            " 14  OP_RB                   280336 non-null  int64  \n",
            " 15  OP_OL                   280336 non-null  int64  \n",
            " 16  OP_QB                   280336 non-null  int64  \n",
            " 17  OP_TE                   280336 non-null  int64  \n",
            " 18  OP_WR                   280336 non-null  int64  \n",
            " 19  OP_DL                   280336 non-null  int64  \n",
            " 20  OP_LB                   280336 non-null  int64  \n",
            " 21  OP_DB                   280336 non-null  int64  \n",
            " 22  Unnamed: 0_x            280336 non-null  int64  \n",
            " 23  Team                    280336 non-null  object \n",
            " 24  Dis                     280336 non-null  float64\n",
            " 25  PossessionTeam          280336 non-null  object \n",
            " 26  VisitorScoreBeforePlay  280336 non-null  int64  \n",
            " 27  DP_DL                   280336 non-null  int64  \n",
            " 28  DP_LB                   280336 non-null  int64  \n",
            " 29  DP_DB                   280336 non-null  int64  \n",
            " 30  DP_RB                   280336 non-null  int64  \n",
            " 31  DP_OL                   280336 non-null  int64  \n",
            " 32  Height_in_cms           280336 non-null  float64\n",
            " 33  WindSpeed_dc            280336 non-null  float64\n",
            " 34  StadiumType             280336 non-null  object \n",
            " 35  HomeTeamAbbr            280336 non-null  object \n",
            " 36  Unnamed: 0_y            280336 non-null  int64  \n",
            " 37  X                       280336 non-null  float64\n",
            " 38  Orientation             280336 non-null  float64\n",
            " 39  Season                  280336 non-null  int64  \n",
            " 40  Down                    280336 non-null  int64  \n",
            " 41  PlayDirection           280336 non-null  object \n",
            " 42  PlayerWeight            280336 non-null  int64  \n",
            " 43  VisitorTeamAbbr         280336 non-null  object \n",
            " 44  Turf                    280336 non-null  object \n",
            " 45  WindDirection           280336 non-null  object \n",
            " 46  IsRusher                280336 non-null  bool   \n",
            " 47  Y                       280336 non-null  float64\n",
            " 48  Dir                     280336 non-null  float64\n",
            " 49  GameWeather             280336 non-null  object \n",
            " 50  YardLine                280336 non-null  int64  \n",
            " 51  Distance                280336 non-null  int64  \n",
            " 52  OffenseFormation        280336 non-null  object \n",
            "dtypes: bool(1), float64(12), int64(27), object(13)\n",
            "memory usage: 113.6+ MB\n"
          ]
        }
      ]
    },
    {
      "cell_type": "code",
      "metadata": {
        "colab": {
          "base_uri": "https://localhost:8080/"
        },
        "id": "J0hT85T0wlKf",
        "outputId": "cfba06ce-bddf-43d6-fadd-999cc20311f9"
      },
      "source": [
        "df_test.info()"
      ],
      "execution_count": null,
      "outputs": [
        {
          "output_type": "stream",
          "name": "stdout",
          "text": [
            "<class 'pandas.core.frame.DataFrame'>\n",
            "Int64Index: 49676 entries, 0 to 60103\n",
            "Data columns (total 52 columns):\n",
            " #   Column                  Non-Null Count  Dtype  \n",
            "---  ------                  --------------  -----  \n",
            " 0   unique_idx              49676 non-null  int64  \n",
            " 1   GameId                  49676 non-null  int64  \n",
            " 2   PlayId                  49676 non-null  int64  \n",
            " 3   A                       49676 non-null  float64\n",
            " 4   DisplayName             49676 non-null  object \n",
            " 5   GameClock               49676 non-null  float64\n",
            " 6   HomeScoreBeforePlay     49676 non-null  int64  \n",
            " 7   DefendersInTheBox       49676 non-null  float64\n",
            " 8   Position                49676 non-null  object \n",
            " 9   HumidityNoNull          49676 non-null  float64\n",
            " 10  YardBins                49676 non-null  object \n",
            " 11  S_binned                49676 non-null  int64  \n",
            " 12  Quarter                 49676 non-null  int64  \n",
            " 13  OP_RB                   49676 non-null  int64  \n",
            " 14  OP_OL                   49676 non-null  int64  \n",
            " 15  OP_QB                   49676 non-null  int64  \n",
            " 16  OP_TE                   49676 non-null  int64  \n",
            " 17  OP_WR                   49676 non-null  int64  \n",
            " 18  OP_DL                   49676 non-null  int64  \n",
            " 19  OP_LB                   49676 non-null  int64  \n",
            " 20  OP_DB                   49676 non-null  int64  \n",
            " 21  Unnamed: 0_x            49676 non-null  int64  \n",
            " 22  Team                    49676 non-null  object \n",
            " 23  Dis                     49676 non-null  float64\n",
            " 24  PossessionTeam          49676 non-null  object \n",
            " 25  VisitorScoreBeforePlay  49676 non-null  int64  \n",
            " 26  DP_DL                   49676 non-null  int64  \n",
            " 27  DP_LB                   49676 non-null  int64  \n",
            " 28  DP_DB                   49676 non-null  int64  \n",
            " 29  DP_RB                   49676 non-null  int64  \n",
            " 30  DP_OL                   49676 non-null  int64  \n",
            " 31  Height_in_cms           49676 non-null  float64\n",
            " 32  WindSpeed_dc            49676 non-null  float64\n",
            " 33  StadiumType             49676 non-null  object \n",
            " 34  HomeTeamAbbr            49676 non-null  object \n",
            " 35  Unnamed: 0_y            49676 non-null  int64  \n",
            " 36  X                       49676 non-null  float64\n",
            " 37  Orientation             49676 non-null  float64\n",
            " 38  Season                  49676 non-null  int64  \n",
            " 39  Down                    49676 non-null  int64  \n",
            " 40  PlayDirection           49676 non-null  object \n",
            " 41  PlayerWeight            49676 non-null  int64  \n",
            " 42  VisitorTeamAbbr         49676 non-null  object \n",
            " 43  Turf                    49676 non-null  object \n",
            " 44  WindDirection           49676 non-null  object \n",
            " 45  IsRusher                49676 non-null  bool   \n",
            " 46  Y                       49676 non-null  float64\n",
            " 47  Dir                     49676 non-null  float64\n",
            " 48  GameWeather             49676 non-null  object \n",
            " 49  YardLine                49676 non-null  int64  \n",
            " 50  Distance                49676 non-null  int64  \n",
            " 51  OffenseFormation        49676 non-null  object \n",
            "dtypes: bool(1), float64(11), int64(27), object(13)\n",
            "memory usage: 19.8+ MB\n"
          ]
        }
      ]
    },
    {
      "cell_type": "code",
      "metadata": {
        "id": "dV1aNeQUvMBR"
      },
      "source": [
        "# Train\n",
        "X_train = df_train.drop([\"YardBins\",\"DisplayName\",\"unique_idx\",\"DisplayName\",\"GameClock\",\"Unnamed: 0_x\",\"Dis\",\"Unnamed: 0_y\"], axis = 1)\n",
        "X_train = pd.get_dummies(X_train)\n",
        "y_train = df_train[[\"YardBins\"]]\n",
        "\n",
        "# Test\n",
        "X_test = df_test.drop([\"YardBins\",\"DisplayName\",\"unique_idx\",\"DisplayName\",\"GameClock\",\"Unnamed: 0_x\",\"Dis\",\"Unnamed: 0_y\"], axis = 1)\n",
        "X_test = pd.get_dummies(X_test)\n",
        "y_test = df_test[[\"YardBins\"]]"
      ],
      "execution_count": null,
      "outputs": []
    },
    {
      "cell_type": "code",
      "metadata": {
        "id": "yGmI1_RYvUUO"
      },
      "source": [
        "# Get missing columns in the training test\n",
        "missing_cols = set( X_train.columns ) - set( X_test.columns )\n",
        "# Add a missing column in test set with default value equal to 0\n",
        "for c in missing_cols:\n",
        "    X_test[c] = 0\n",
        "# Ensure the order of column in the test set is in the same order than in train set\n",
        "X_test = X_test[X_test.columns]"
      ],
      "execution_count": null,
      "outputs": []
    },
    {
      "cell_type": "code",
      "metadata": {
        "colab": {
          "base_uri": "https://localhost:8080/"
        },
        "id": "euIZTWiVvdfm",
        "outputId": "9a6a548c-69ed-4882-b784-78c23354a97b"
      },
      "source": [
        "#Decision Tree \n",
        "max_depth = 100\n",
        "model = tree.DecisionTreeClassifier(random_state = 1, max_depth = max_depth)\n",
        "#model = RandomForestClassifier()\n",
        "model.fit(X_train,y_train)\n",
        "y_pred = model.predict(X_test)"
      ],
      "execution_count": null,
      "outputs": [
        {
          "output_type": "stream",
          "name": "stderr",
          "text": [
            "/usr/local/lib/python3.7/dist-packages/sklearn/base.py:488: FutureWarning: The feature names should match those that were passed during fit. Starting version 1.2, an error will be raised.\n",
            "Feature names must be in the same order as they were in fit.\n",
            "\n",
            "  warnings.warn(message, FutureWarning)\n"
          ]
        }
      ]
    },
    {
      "cell_type": "code",
      "metadata": {
        "colab": {
          "base_uri": "https://localhost:8080/"
        },
        "id": "OY2VnU9Xvs6L",
        "outputId": "314d36ce-c3f5-4b9e-8d6d-299547c41cb5"
      },
      "source": [
        "print(accuracy_score(y_test, y_pred))"
      ],
      "execution_count": null,
      "outputs": [
        {
          "output_type": "stream",
          "name": "stdout",
          "text": [
            "0.16688139141637812\n"
          ]
        }
      ]
    },
    {
      "cell_type": "code",
      "metadata": {
        "colab": {
          "base_uri": "https://localhost:8080/"
        },
        "id": "oAmrFcCX6Ej9",
        "outputId": "972b2dae-d5a2-4bc6-89c9-71264571c172"
      },
      "source": [
        "pred_train = model.predict(X_train)\n",
        "print(accuracy_score(y_train, pred_train))"
      ],
      "execution_count": null,
      "outputs": [
        {
          "output_type": "stream",
          "name": "stdout",
          "text": [
            "1.0\n"
          ]
        }
      ]
    },
    {
      "cell_type": "code",
      "metadata": {
        "id": "yB0GJm1GMZ_d"
      },
      "source": [
        "df_pred = list(y_pred.copy())\n",
        "dict_changename = {'(-inf, -1.0]': 1, '(-1.0, 0.0]': 2, '(0.0, 2.0]': 3, '(2.0, 4.0]': 4, '(4.0, 6.0]': 5, \n",
        "                      '(6.0, 8.0]': 6, '(8.0, 10.0]': 7,'(10.0, 15.0]': 8, '(15.0, 20.0]': 9, '(20.0, inf]': 10}\n",
        "df_pred_new = [dict_changename.get(n, n) for n in df_pred]"
      ],
      "execution_count": null,
      "outputs": []
    },
    {
      "cell_type": "code",
      "metadata": {
        "id": "V9IEhYqAMcxX"
      },
      "source": [
        "df_true =  list(y_test[\"YardBins\"].copy())\n",
        "df_true_new = [dict_changename.get(n, n) for n in df_true]"
      ],
      "execution_count": null,
      "outputs": []
    },
    {
      "cell_type": "code",
      "metadata": {
        "id": "Bw_IHg_UMg54",
        "colab": {
          "base_uri": "https://localhost:8080/"
        },
        "outputId": "0ed445c9-c3ae-4e61-dfe6-e665cb936cb5"
      },
      "source": [
        "import numpy as np\n",
        "diff = abs(np.array(df_true_new) - np.array(df_pred_new))\n",
        "df_describe = pd.DataFrame(diff)\n",
        "df_describe[df_describe[0] <= 1].shape[0] / df_describe.shape[0]"
      ],
      "execution_count": null,
      "outputs": [
        {
          "output_type": "execute_result",
          "data": {
            "text/plain": [
              "0.5651018600531443"
            ]
          },
          "metadata": {},
          "execution_count": 20
        }
      ]
    },
    {
      "cell_type": "code",
      "metadata": {
        "id": "CF7yDqvQMki0",
        "colab": {
          "base_uri": "https://localhost:8080/"
        },
        "outputId": "e327a207-c50d-478b-d6bf-34afd47ea8d9"
      },
      "source": [
        "df_describe[df_describe[0] <= 2].shape[0] / df_describe.shape[0]"
      ],
      "execution_count": null,
      "outputs": [
        {
          "output_type": "execute_result",
          "data": {
            "text/plain": [
              "0.8113374667847653"
            ]
          },
          "metadata": {},
          "execution_count": 21
        }
      ]
    },
    {
      "cell_type": "code",
      "metadata": {
        "colab": {
          "base_uri": "https://localhost:8080/"
        },
        "id": "s8zf8iRCvvw9",
        "outputId": "3077dc84-c21a-4b17-ab36-de4ca256ee6b"
      },
      "source": [
        "target_names = [\"Class 1\", \"Class 2\",\"Class 3\", \"Class 4\", \"Class 5\", \"Class 6\", \"Class 7\",\"Class 8\",\"Class 9\", \"Class 10\"]\n",
        "print(classification_report(y_test, y_pred, target_names=target_names))"
      ],
      "execution_count": null,
      "outputs": [
        {
          "output_type": "stream",
          "name": "stderr",
          "text": [
            "/usr/local/lib/python3.7/dist-packages/sklearn/metrics/_classification.py:1308: UndefinedMetricWarning: Precision and F-score are ill-defined and being set to 0.0 in labels with no predicted samples. Use `zero_division` parameter to control this behavior.\n",
            "  _warn_prf(average, modifier, msg_start, len(result))\n",
            "/usr/local/lib/python3.7/dist-packages/sklearn/metrics/_classification.py:1308: UndefinedMetricWarning: Precision and F-score are ill-defined and being set to 0.0 in labels with no predicted samples. Use `zero_division` parameter to control this behavior.\n",
            "  _warn_prf(average, modifier, msg_start, len(result))\n"
          ]
        },
        {
          "output_type": "stream",
          "name": "stdout",
          "text": [
            "              precision    recall  f1-score   support\n",
            "\n",
            "     Class 1       0.28      0.02      0.04      4290\n",
            "     Class 2       0.11      0.00      0.01      5566\n",
            "     Class 3       0.29      0.23      0.26     12320\n",
            "     Class 4       0.10      0.01      0.02      2354\n",
            "     Class 5       0.00      0.00      0.00       792\n",
            "     Class 6       0.00      0.00      0.00     11462\n",
            "     Class 7       0.00      0.00      0.00       990\n",
            "     Class 8       0.14      0.79      0.24      6666\n",
            "     Class 9       0.00      0.00      0.00      3410\n",
            "    Class 10       0.00      0.00      0.00      1826\n",
            "\n",
            "    accuracy                           0.17     49676\n",
            "   macro avg       0.09      0.11      0.06     49676\n",
            "weighted avg       0.13      0.17      0.10     49676\n",
            "\n"
          ]
        },
        {
          "output_type": "stream",
          "name": "stderr",
          "text": [
            "/usr/local/lib/python3.7/dist-packages/sklearn/metrics/_classification.py:1308: UndefinedMetricWarning: Precision and F-score are ill-defined and being set to 0.0 in labels with no predicted samples. Use `zero_division` parameter to control this behavior.\n",
            "  _warn_prf(average, modifier, msg_start, len(result))\n"
          ]
        }
      ]
    },
    {
      "cell_type": "code",
      "metadata": {
        "colab": {
          "base_uri": "https://localhost:8080/"
        },
        "id": "5A0LOyHEwBX1",
        "outputId": "34bbdf1c-d062-4934-ee67-d1dd6e8dc32d"
      },
      "source": [
        "#Logistic Regression \n",
        "\n",
        "logit = LogisticRegression(multi_class='multinomial', solver='lbfgs')\n",
        "logit.fit(X_train,y_train)\n",
        "y_pred = logit.predict(X_test)"
      ],
      "execution_count": null,
      "outputs": [
        {
          "output_type": "stream",
          "name": "stderr",
          "text": [
            "/usr/local/lib/python3.7/dist-packages/sklearn/utils/validation.py:985: DataConversionWarning: A column-vector y was passed when a 1d array was expected. Please change the shape of y to (n_samples, ), for example using ravel().\n",
            "  y = column_or_1d(y, warn=True)\n",
            "/usr/local/lib/python3.7/dist-packages/sklearn/base.py:488: FutureWarning: The feature names should match those that were passed during fit. Starting version 1.2, an error will be raised.\n",
            "Feature names must be in the same order as they were in fit.\n",
            "\n",
            "  warnings.warn(message, FutureWarning)\n"
          ]
        }
      ]
    },
    {
      "cell_type": "code",
      "metadata": {
        "colab": {
          "base_uri": "https://localhost:8080/"
        },
        "id": "abSjYq26xeN0",
        "outputId": "0af12067-fb11-4490-bb3c-42db4fbda2f1"
      },
      "source": [
        "print(accuracy_score(y_test, y_pred))"
      ],
      "execution_count": null,
      "outputs": [
        {
          "output_type": "stream",
          "name": "stdout",
          "text": [
            "0.24800708591674048\n"
          ]
        }
      ]
    },
    {
      "cell_type": "code",
      "metadata": {
        "colab": {
          "base_uri": "https://localhost:8080/"
        },
        "id": "wnBoHcdR5mUH",
        "outputId": "2485103b-45ca-4911-c921-be292ef74a04"
      },
      "source": [
        "pred_train = logit.predict(X_train)\n",
        "print(accuracy_score(y_train,pred_train))"
      ],
      "execution_count": null,
      "outputs": [
        {
          "output_type": "stream",
          "name": "stdout",
          "text": [
            "0.2462901660864106\n"
          ]
        }
      ]
    },
    {
      "cell_type": "code",
      "metadata": {
        "id": "ap29EML072JB"
      },
      "source": [
        "from sklearn.model_selection import GridSearchCV \n",
        "from sklearn.model_selection import RandomizedSearchCV \n",
        "import numpy as np\n"
      ],
      "execution_count": null,
      "outputs": []
    },
    {
      "cell_type": "code",
      "metadata": {
        "id": "JQ-9egmD73lH"
      },
      "source": [
        "def clf_performance(classifier, model_name):\n",
        "    print(model_name)\n",
        "    print('Best Score: ' + str(classifier.best_score_))\n",
        "    print('Best Parameters: ' + str(classifier.best_params_))"
      ],
      "execution_count": null,
      "outputs": []
    },
    {
      "cell_type": "code",
      "metadata": {
        "colab": {
          "base_uri": "https://localhost:8080/"
        },
        "id": "HMAzYTBf7-Fd",
        "outputId": "ee0dbd5b-77ff-4444-e2c0-66789385d737"
      },
      "source": [
        "lr = LogisticRegression(multi_class='multinomial')\n",
        "param_grid = {'max_iter' : [2000],\n",
        "              'penalty' : ['l1', 'l2'],\n",
        "              'C' : np.logspace(-4, 4, 20),\n",
        "              'solver' : ['lbfgs']}\n",
        "\n",
        "clf_lr = GridSearchCV(lr, param_grid = param_grid, cv = 5, verbose = True, n_jobs = -1)\n",
        "best_clf_lr = clf_lr.fit(X_train,y_train)\n",
        "clf_performance(best_clf_lr,'Logistic Regression')\n"
      ],
      "execution_count": null,
      "outputs": [
        {
          "output_type": "stream",
          "name": "stdout",
          "text": [
            "Fitting 5 folds for each of 40 candidates, totalling 200 fits\n"
          ]
        },
        {
          "output_type": "stream",
          "name": "stderr",
          "text": [
            "/usr/local/lib/python3.7/dist-packages/joblib/externals/loky/process_executor.py:705: UserWarning: A worker stopped while some jobs were given to the executor. This can be caused by a too short worker timeout or by a memory leak.\n",
            "  \"timeout or by a memory leak.\", UserWarning\n",
            "/usr/local/lib/python3.7/dist-packages/sklearn/model_selection/_validation.py:372: FitFailedWarning: \n",
            "100 fits failed out of a total of 200.\n",
            "The score on these train-test partitions for these parameters will be set to nan.\n",
            "If these failures are not expected, you can try to debug them by setting error_score='raise'.\n",
            "\n",
            "Below are more details about the failures:\n",
            "--------------------------------------------------------------------------------\n",
            "100 fits failed with the following error:\n",
            "Traceback (most recent call last):\n",
            "  File \"/usr/local/lib/python3.7/dist-packages/sklearn/model_selection/_validation.py\", line 681, in _fit_and_score\n",
            "    estimator.fit(X_train, y_train, **fit_params)\n",
            "  File \"/usr/local/lib/python3.7/dist-packages/sklearn/linear_model/_logistic.py\", line 1461, in fit\n",
            "    solver = _check_solver(self.solver, self.penalty, self.dual)\n",
            "  File \"/usr/local/lib/python3.7/dist-packages/sklearn/linear_model/_logistic.py\", line 449, in _check_solver\n",
            "    % (solver, penalty)\n",
            "ValueError: Solver lbfgs supports only 'l2' or 'none' penalties, got l1 penalty.\n",
            "\n",
            "  warnings.warn(some_fits_failed_message, FitFailedWarning)\n",
            "/usr/local/lib/python3.7/dist-packages/sklearn/model_selection/_search.py:972: UserWarning: One or more of the test scores are non-finite: [       nan 0.24629017        nan 0.24629017        nan 0.24629017\n",
            "        nan 0.24629017        nan 0.24629017        nan 0.24629017\n",
            "        nan 0.24629017        nan 0.24629017        nan 0.24629017\n",
            "        nan 0.24629017        nan 0.24629017        nan 0.24629017\n",
            "        nan 0.24629017        nan 0.24629017        nan 0.24629017\n",
            "        nan 0.24629017        nan 0.24629017        nan 0.24629017\n",
            "        nan 0.24629017        nan 0.24629017]\n",
            "  category=UserWarning,\n",
            "/usr/local/lib/python3.7/dist-packages/sklearn/utils/validation.py:985: DataConversionWarning: A column-vector y was passed when a 1d array was expected. Please change the shape of y to (n_samples, ), for example using ravel().\n",
            "  y = column_or_1d(y, warn=True)\n"
          ]
        },
        {
          "output_type": "stream",
          "name": "stdout",
          "text": [
            "Logistic Regression\n",
            "Best Score: 0.24629016614984384\n",
            "Best Parameters: {'C': 0.0001, 'max_iter': 2000, 'penalty': 'l2', 'solver': 'lbfgs'}\n"
          ]
        }
      ]
    },
    {
      "cell_type": "code",
      "metadata": {
        "colab": {
          "base_uri": "https://localhost:8080/"
        },
        "id": "g_tEhOcdxgnk",
        "outputId": "6ee64cbc-f423-4b85-b9b3-a5eb615649f2"
      },
      "source": [
        "#Naive Bayes \n",
        "\n",
        "Nb = GaussianNB()\n",
        "Nb.fit(X_train,y_train)\n",
        "pred = Nb.predict(X_test)\n",
        "print(accuracy_score(y_test, pred))"
      ],
      "execution_count": null,
      "outputs": [
        {
          "output_type": "stream",
          "name": "stderr",
          "text": [
            "/usr/local/lib/python3.7/dist-packages/sklearn/utils/validation.py:985: DataConversionWarning: A column-vector y was passed when a 1d array was expected. Please change the shape of y to (n_samples, ), for example using ravel().\n",
            "  y = column_or_1d(y, warn=True)\n",
            "/usr/local/lib/python3.7/dist-packages/sklearn/base.py:488: FutureWarning: The feature names should match those that were passed during fit. Starting version 1.2, an error will be raised.\n",
            "Feature names must be in the same order as they were in fit.\n",
            "\n",
            "  warnings.warn(message, FutureWarning)\n"
          ]
        },
        {
          "output_type": "stream",
          "name": "stdout",
          "text": [
            "0.24800708591674048\n"
          ]
        }
      ]
    },
    {
      "cell_type": "code",
      "metadata": {
        "id": "tCbPCI7Ix13J"
      },
      "source": [
        "#svc = SVC()\n",
        "#svc.fit(X_train,y_train)\n",
        "#y_pred = svc.predict(X_test)\n",
        "#print(accuracy_score(y_test, y_pred))"
      ],
      "execution_count": null,
      "outputs": []
    },
    {
      "cell_type": "code",
      "metadata": {
        "id": "bq35S9dLyIZj"
      },
      "source": [
        "import numpy as np\n",
        "import matplotlib.pyplot as plt\n"
      ],
      "execution_count": null,
      "outputs": []
    },
    {
      "cell_type": "code",
      "metadata": {
        "id": "6rmCYO7Di-rg"
      },
      "source": [
        "import lightgbm as lgb"
      ],
      "execution_count": null,
      "outputs": []
    },
    {
      "cell_type": "code",
      "metadata": {
        "colab": {
          "base_uri": "https://localhost:8080/"
        },
        "id": "S6qez8wy7b5c",
        "outputId": "9c365b48-4e0b-47e0-e878-879f55c41c55"
      },
      "source": [
        "from sklearn import preprocessing\n",
        "le = preprocessing.LabelEncoder()\n",
        "train_y = le.fit_transform(y_train)"
      ],
      "execution_count": null,
      "outputs": [
        {
          "output_type": "stream",
          "name": "stderr",
          "text": [
            "/usr/local/lib/python3.7/dist-packages/sklearn/preprocessing/_label.py:115: DataConversionWarning: A column-vector y was passed when a 1d array was expected. Please change the shape of y to (n_samples, ), for example using ravel().\n",
            "  y = column_or_1d(y, warn=True)\n"
          ]
        }
      ]
    },
    {
      "cell_type": "code",
      "metadata": {
        "colab": {
          "base_uri": "https://localhost:8080/"
        },
        "id": "-HgDNHqt73GL",
        "outputId": "cd3fa242-e1bc-4807-ad35-baa853ad8035"
      },
      "source": [
        "test_y = le.fit_transform(y_test)"
      ],
      "execution_count": null,
      "outputs": [
        {
          "output_type": "stream",
          "name": "stderr",
          "text": [
            "/usr/local/lib/python3.7/dist-packages/sklearn/preprocessing/_label.py:115: DataConversionWarning: A column-vector y was passed when a 1d array was expected. Please change the shape of y to (n_samples, ), for example using ravel().\n",
            "  y = column_or_1d(y, warn=True)\n"
          ]
        }
      ]
    },
    {
      "cell_type": "code",
      "metadata": {
        "id": "dpwW1J2h8GgA"
      },
      "source": [
        "gbm = lgb.LGBMRegressor()\n",
        "gbm.fit(X_train,train_y)\n",
        "y_pred = gbm.predict(X_test)\n"
      ],
      "execution_count": null,
      "outputs": []
    },
    {
      "cell_type": "code",
      "metadata": {
        "colab": {
          "base_uri": "https://localhost:8080/"
        },
        "id": "oZx6nJK_8dy0",
        "outputId": "b47348f8-74e8-430b-c20f-a2de5bf6da69"
      },
      "source": [
        "y_pred"
      ],
      "execution_count": null,
      "outputs": [
        {
          "output_type": "execute_result",
          "data": {
            "text/plain": [
              "array([4.41203498, 4.41203498, 4.41203498, ..., 4.05707743, 3.9232227 ,\n",
              "       4.1449148 ])"
            ]
          },
          "metadata": {},
          "execution_count": 36
        }
      ]
    },
    {
      "cell_type": "code",
      "metadata": {
        "colab": {
          "base_uri": "https://localhost:8080/",
          "height": 278
        },
        "id": "v0CI76eYfcid",
        "outputId": "17fcee51-891b-4d0a-9b0d-1882960ce47d"
      },
      "source": [
        "df_train.head()"
      ],
      "execution_count": null,
      "outputs": [
        {
          "output_type": "execute_result",
          "data": {
            "text/html": [
              "<div>\n",
              "<style scoped>\n",
              "    .dataframe tbody tr th:only-of-type {\n",
              "        vertical-align: middle;\n",
              "    }\n",
              "\n",
              "    .dataframe tbody tr th {\n",
              "        vertical-align: top;\n",
              "    }\n",
              "\n",
              "    .dataframe thead th {\n",
              "        text-align: right;\n",
              "    }\n",
              "</style>\n",
              "<table border=\"1\" class=\"dataframe\">\n",
              "  <thead>\n",
              "    <tr style=\"text-align: right;\">\n",
              "      <th></th>\n",
              "      <th>unique_idx</th>\n",
              "      <th>GameId</th>\n",
              "      <th>PlayId</th>\n",
              "      <th>A</th>\n",
              "      <th>DisplayName</th>\n",
              "      <th>GameClock</th>\n",
              "      <th>HomeScoreBeforePlay</th>\n",
              "      <th>DefendersInTheBox</th>\n",
              "      <th>Position</th>\n",
              "      <th>YardBins</th>\n",
              "      <th>HumidityNoNull</th>\n",
              "      <th>S_binned</th>\n",
              "      <th>Quarter</th>\n",
              "      <th>OP_RB</th>\n",
              "      <th>OP_OL</th>\n",
              "      <th>OP_QB</th>\n",
              "      <th>OP_TE</th>\n",
              "      <th>OP_WR</th>\n",
              "      <th>OP_DL</th>\n",
              "      <th>OP_LB</th>\n",
              "      <th>OP_DB</th>\n",
              "      <th>Unnamed: 0_x</th>\n",
              "      <th>Team</th>\n",
              "      <th>Dis</th>\n",
              "      <th>PossessionTeam</th>\n",
              "      <th>VisitorScoreBeforePlay</th>\n",
              "      <th>DP_DL</th>\n",
              "      <th>DP_LB</th>\n",
              "      <th>DP_DB</th>\n",
              "      <th>DP_RB</th>\n",
              "      <th>DP_OL</th>\n",
              "      <th>Height_in_cms</th>\n",
              "      <th>WindSpeed_dc</th>\n",
              "      <th>StadiumType</th>\n",
              "      <th>HomeTeamAbbr</th>\n",
              "      <th>Unnamed: 0_y</th>\n",
              "      <th>X</th>\n",
              "      <th>Orientation</th>\n",
              "      <th>Season</th>\n",
              "      <th>Down</th>\n",
              "      <th>PlayDirection</th>\n",
              "      <th>PlayerWeight</th>\n",
              "      <th>VisitorTeamAbbr</th>\n",
              "      <th>Turf</th>\n",
              "      <th>WindDirection</th>\n",
              "      <th>IsRusher</th>\n",
              "      <th>Y</th>\n",
              "      <th>Dir</th>\n",
              "      <th>GameWeather</th>\n",
              "      <th>YardLine</th>\n",
              "      <th>Distance</th>\n",
              "      <th>OffenseFormation</th>\n",
              "    </tr>\n",
              "  </thead>\n",
              "  <tbody>\n",
              "    <tr>\n",
              "      <th>0</th>\n",
              "      <td>1</td>\n",
              "      <td>2017090700</td>\n",
              "      <td>20170907000118</td>\n",
              "      <td>1.13</td>\n",
              "      <td>Eric Berry</td>\n",
              "      <td>854.0</td>\n",
              "      <td>0</td>\n",
              "      <td>6.0</td>\n",
              "      <td>SS</td>\n",
              "      <td>(6.0, 8.0]</td>\n",
              "      <td>77.0</td>\n",
              "      <td>1</td>\n",
              "      <td>1</td>\n",
              "      <td>1</td>\n",
              "      <td>0</td>\n",
              "      <td>0</td>\n",
              "      <td>1</td>\n",
              "      <td>3</td>\n",
              "      <td>0</td>\n",
              "      <td>0</td>\n",
              "      <td>0</td>\n",
              "      <td>0</td>\n",
              "      <td>away</td>\n",
              "      <td>0.40</td>\n",
              "      <td>NE</td>\n",
              "      <td>0</td>\n",
              "      <td>2</td>\n",
              "      <td>3</td>\n",
              "      <td>6</td>\n",
              "      <td>0</td>\n",
              "      <td>0</td>\n",
              "      <td>182.88</td>\n",
              "      <td>8.0</td>\n",
              "      <td>outdoor</td>\n",
              "      <td>NE</td>\n",
              "      <td>0</td>\n",
              "      <td>73.91</td>\n",
              "      <td>81.99</td>\n",
              "      <td>2017</td>\n",
              "      <td>3</td>\n",
              "      <td>left</td>\n",
              "      <td>212</td>\n",
              "      <td>KC</td>\n",
              "      <td>Artificial</td>\n",
              "      <td>SW</td>\n",
              "      <td>False</td>\n",
              "      <td>32.64</td>\n",
              "      <td>198.70</td>\n",
              "      <td>clear</td>\n",
              "      <td>35</td>\n",
              "      <td>2</td>\n",
              "      <td>SHOTGUN</td>\n",
              "    </tr>\n",
              "    <tr>\n",
              "      <th>1</th>\n",
              "      <td>2</td>\n",
              "      <td>2017090700</td>\n",
              "      <td>20170907000118</td>\n",
              "      <td>1.35</td>\n",
              "      <td>Allen Bailey</td>\n",
              "      <td>854.0</td>\n",
              "      <td>0</td>\n",
              "      <td>6.0</td>\n",
              "      <td>DE</td>\n",
              "      <td>(6.0, 8.0]</td>\n",
              "      <td>77.0</td>\n",
              "      <td>0</td>\n",
              "      <td>1</td>\n",
              "      <td>1</td>\n",
              "      <td>0</td>\n",
              "      <td>0</td>\n",
              "      <td>1</td>\n",
              "      <td>3</td>\n",
              "      <td>0</td>\n",
              "      <td>0</td>\n",
              "      <td>0</td>\n",
              "      <td>1</td>\n",
              "      <td>away</td>\n",
              "      <td>0.01</td>\n",
              "      <td>NE</td>\n",
              "      <td>0</td>\n",
              "      <td>2</td>\n",
              "      <td>3</td>\n",
              "      <td>6</td>\n",
              "      <td>0</td>\n",
              "      <td>0</td>\n",
              "      <td>190.50</td>\n",
              "      <td>8.0</td>\n",
              "      <td>outdoor</td>\n",
              "      <td>NE</td>\n",
              "      <td>1</td>\n",
              "      <td>74.67</td>\n",
              "      <td>27.61</td>\n",
              "      <td>2017</td>\n",
              "      <td>3</td>\n",
              "      <td>left</td>\n",
              "      <td>288</td>\n",
              "      <td>KC</td>\n",
              "      <td>Artificial</td>\n",
              "      <td>SW</td>\n",
              "      <td>False</td>\n",
              "      <td>33.20</td>\n",
              "      <td>202.73</td>\n",
              "      <td>clear</td>\n",
              "      <td>35</td>\n",
              "      <td>2</td>\n",
              "      <td>SHOTGUN</td>\n",
              "    </tr>\n",
              "    <tr>\n",
              "      <th>2</th>\n",
              "      <td>3</td>\n",
              "      <td>2017090700</td>\n",
              "      <td>20170907000118</td>\n",
              "      <td>0.59</td>\n",
              "      <td>Justin Houston</td>\n",
              "      <td>854.0</td>\n",
              "      <td>0</td>\n",
              "      <td>6.0</td>\n",
              "      <td>DE</td>\n",
              "      <td>(6.0, 8.0]</td>\n",
              "      <td>77.0</td>\n",
              "      <td>1</td>\n",
              "      <td>1</td>\n",
              "      <td>1</td>\n",
              "      <td>0</td>\n",
              "      <td>0</td>\n",
              "      <td>1</td>\n",
              "      <td>3</td>\n",
              "      <td>0</td>\n",
              "      <td>0</td>\n",
              "      <td>0</td>\n",
              "      <td>2</td>\n",
              "      <td>away</td>\n",
              "      <td>0.31</td>\n",
              "      <td>NE</td>\n",
              "      <td>0</td>\n",
              "      <td>2</td>\n",
              "      <td>3</td>\n",
              "      <td>6</td>\n",
              "      <td>0</td>\n",
              "      <td>0</td>\n",
              "      <td>190.50</td>\n",
              "      <td>8.0</td>\n",
              "      <td>outdoor</td>\n",
              "      <td>NE</td>\n",
              "      <td>2</td>\n",
              "      <td>74.00</td>\n",
              "      <td>3.01</td>\n",
              "      <td>2017</td>\n",
              "      <td>3</td>\n",
              "      <td>left</td>\n",
              "      <td>270</td>\n",
              "      <td>KC</td>\n",
              "      <td>Artificial</td>\n",
              "      <td>SW</td>\n",
              "      <td>False</td>\n",
              "      <td>27.70</td>\n",
              "      <td>105.64</td>\n",
              "      <td>clear</td>\n",
              "      <td>35</td>\n",
              "      <td>2</td>\n",
              "      <td>SHOTGUN</td>\n",
              "    </tr>\n",
              "    <tr>\n",
              "      <th>3</th>\n",
              "      <td>4</td>\n",
              "      <td>2017090700</td>\n",
              "      <td>20170907000118</td>\n",
              "      <td>0.54</td>\n",
              "      <td>Derrick Johnson</td>\n",
              "      <td>854.0</td>\n",
              "      <td>0</td>\n",
              "      <td>6.0</td>\n",
              "      <td>ILB</td>\n",
              "      <td>(6.0, 8.0]</td>\n",
              "      <td>77.0</td>\n",
              "      <td>0</td>\n",
              "      <td>1</td>\n",
              "      <td>1</td>\n",
              "      <td>0</td>\n",
              "      <td>0</td>\n",
              "      <td>1</td>\n",
              "      <td>3</td>\n",
              "      <td>0</td>\n",
              "      <td>0</td>\n",
              "      <td>0</td>\n",
              "      <td>3</td>\n",
              "      <td>away</td>\n",
              "      <td>0.02</td>\n",
              "      <td>NE</td>\n",
              "      <td>0</td>\n",
              "      <td>2</td>\n",
              "      <td>3</td>\n",
              "      <td>6</td>\n",
              "      <td>0</td>\n",
              "      <td>0</td>\n",
              "      <td>190.50</td>\n",
              "      <td>8.0</td>\n",
              "      <td>outdoor</td>\n",
              "      <td>NE</td>\n",
              "      <td>3</td>\n",
              "      <td>71.46</td>\n",
              "      <td>359.77</td>\n",
              "      <td>2017</td>\n",
              "      <td>3</td>\n",
              "      <td>left</td>\n",
              "      <td>245</td>\n",
              "      <td>KC</td>\n",
              "      <td>Artificial</td>\n",
              "      <td>SW</td>\n",
              "      <td>False</td>\n",
              "      <td>35.42</td>\n",
              "      <td>164.31</td>\n",
              "      <td>clear</td>\n",
              "      <td>35</td>\n",
              "      <td>2</td>\n",
              "      <td>SHOTGUN</td>\n",
              "    </tr>\n",
              "    <tr>\n",
              "      <th>4</th>\n",
              "      <td>5</td>\n",
              "      <td>2017090700</td>\n",
              "      <td>20170907000118</td>\n",
              "      <td>2.43</td>\n",
              "      <td>Ron Parker</td>\n",
              "      <td>854.0</td>\n",
              "      <td>0</td>\n",
              "      <td>6.0</td>\n",
              "      <td>FS</td>\n",
              "      <td>(6.0, 8.0]</td>\n",
              "      <td>77.0</td>\n",
              "      <td>2</td>\n",
              "      <td>1</td>\n",
              "      <td>1</td>\n",
              "      <td>0</td>\n",
              "      <td>0</td>\n",
              "      <td>1</td>\n",
              "      <td>3</td>\n",
              "      <td>0</td>\n",
              "      <td>0</td>\n",
              "      <td>0</td>\n",
              "      <td>4</td>\n",
              "      <td>away</td>\n",
              "      <td>0.16</td>\n",
              "      <td>NE</td>\n",
              "      <td>0</td>\n",
              "      <td>2</td>\n",
              "      <td>3</td>\n",
              "      <td>6</td>\n",
              "      <td>0</td>\n",
              "      <td>0</td>\n",
              "      <td>182.88</td>\n",
              "      <td>8.0</td>\n",
              "      <td>outdoor</td>\n",
              "      <td>NE</td>\n",
              "      <td>4</td>\n",
              "      <td>69.32</td>\n",
              "      <td>12.63</td>\n",
              "      <td>2017</td>\n",
              "      <td>3</td>\n",
              "      <td>left</td>\n",
              "      <td>206</td>\n",
              "      <td>KC</td>\n",
              "      <td>Artificial</td>\n",
              "      <td>SW</td>\n",
              "      <td>False</td>\n",
              "      <td>24.00</td>\n",
              "      <td>95.01</td>\n",
              "      <td>clear</td>\n",
              "      <td>35</td>\n",
              "      <td>2</td>\n",
              "      <td>SHOTGUN</td>\n",
              "    </tr>\n",
              "  </tbody>\n",
              "</table>\n",
              "</div>"
            ],
            "text/plain": [
              "   unique_idx      GameId          PlayId  ...  YardLine Distance  OffenseFormation\n",
              "0           1  2017090700  20170907000118  ...        35        2           SHOTGUN\n",
              "1           2  2017090700  20170907000118  ...        35        2           SHOTGUN\n",
              "2           3  2017090700  20170907000118  ...        35        2           SHOTGUN\n",
              "3           4  2017090700  20170907000118  ...        35        2           SHOTGUN\n",
              "4           5  2017090700  20170907000118  ...        35        2           SHOTGUN\n",
              "\n",
              "[5 rows x 52 columns]"
            ]
          },
          "metadata": {},
          "execution_count": 7
        }
      ]
    },
    {
      "cell_type": "code",
      "metadata": {
        "id": "70V4YoAvkF5N"
      },
      "source": [
        ""
      ],
      "execution_count": null,
      "outputs": []
    },
    {
      "cell_type": "code",
      "metadata": {
        "id": "Z3z0obUniAlP"
      },
      "source": [
        "X_train = df_train.drop([\"DisplayName\",\"unique_idx\",\"GameClock\",\"Unnamed: 0_x\",\"Dis\",\"Unnamed: 0_y\",\"Season\"], axis = 1)"
      ],
      "execution_count": null,
      "outputs": []
    },
    {
      "cell_type": "code",
      "metadata": {
        "id": "IOKHwsMciHLS"
      },
      "source": [
        "#X_train.head(22)"
      ],
      "execution_count": null,
      "outputs": []
    },
    {
      "cell_type": "code",
      "metadata": {
        "colab": {
          "base_uri": "https://localhost:8080/"
        },
        "id": "3pkNxBrqiKPQ",
        "outputId": "40fbccab-9be0-4fb3-e8ff-bf6459ad77d4"
      },
      "source": [
        "print(f\"Total games: {X_train.GameId.nunique()}\")\n",
        "print(f\"Total plays: {X_train.PlayId.nunique()}\") #PlayId is important"
      ],
      "execution_count": null,
      "outputs": [
        {
          "output_type": "stream",
          "name": "stdout",
          "text": [
            "Total games: 401\n",
            "Total plays: 12746\n"
          ]
        }
      ]
    },
    {
      "cell_type": "code",
      "metadata": {
        "colab": {
          "base_uri": "https://localhost:8080/"
        },
        "id": "3MKX15yHi_sX",
        "outputId": "a984159a-22fd-470d-ea09-a2713ce0a854"
      },
      "source": [
        "print(f\"Total Possession Teams: {X_train.PossessionTeam.nunique()}\")"
      ],
      "execution_count": null,
      "outputs": [
        {
          "output_type": "stream",
          "name": "stdout",
          "text": [
            "Total Possession Teams: 32\n"
          ]
        }
      ]
    },
    {
      "cell_type": "code",
      "metadata": {
        "colab": {
          "base_uri": "https://localhost:8080/"
        },
        "id": "RaSvpRfpjRD9",
        "outputId": "28bb3db3-48a7-4e2d-e87b-3a8a785a3343"
      },
      "source": [
        "X_train.groupby([\"PlayId\",\"PossessionTeam\"]).GameId.count().value_counts()"
      ],
      "execution_count": null,
      "outputs": [
        {
          "output_type": "execute_result",
          "data": {
            "text/plain": [
              "22    12718\n",
              "21       25\n",
              "1         2\n",
              "13        1\n",
              "Name: GameId, dtype: int64"
            ]
          },
          "metadata": {},
          "execution_count": 104
        }
      ]
    },
    {
      "cell_type": "code",
      "metadata": {
        "id": "6bn6Z21Hnbfd"
      },
      "source": [
        "cols = [\"Dir\",\"Y\",\"IsRusher\",\"PlayerWeight\",\"Orientation\",\"X\",\"Height_in_cms\",\"A\",\"Position\",\"S_binned\"]\n",
        "train_x = X_train.drop(cols,axis = 1).drop_duplicates(subset = \"PlayId\")\n",
        "train_y = X_train[[\"YardBins\",\"PlayId\"]].drop_duplicates(subset = \"PlayId\")"
      ],
      "execution_count": null,
      "outputs": []
    },
    {
      "cell_type": "code",
      "metadata": {
        "colab": {
          "base_uri": "https://localhost:8080/",
          "height": 226
        },
        "id": "bczoPb55pf3i",
        "outputId": "d482a84d-10e9-4b7d-acf9-e397082e1c18"
      },
      "source": [
        "train_x.head()"
      ],
      "execution_count": null,
      "outputs": [
        {
          "output_type": "execute_result",
          "data": {
            "text/html": [
              "<div>\n",
              "<style scoped>\n",
              "    .dataframe tbody tr th:only-of-type {\n",
              "        vertical-align: middle;\n",
              "    }\n",
              "\n",
              "    .dataframe tbody tr th {\n",
              "        vertical-align: top;\n",
              "    }\n",
              "\n",
              "    .dataframe thead th {\n",
              "        text-align: right;\n",
              "    }\n",
              "</style>\n",
              "<table border=\"1\" class=\"dataframe\">\n",
              "  <thead>\n",
              "    <tr style=\"text-align: right;\">\n",
              "      <th></th>\n",
              "      <th>GameId</th>\n",
              "      <th>PlayId</th>\n",
              "      <th>HomeScoreBeforePlay</th>\n",
              "      <th>DefendersInTheBox</th>\n",
              "      <th>YardBins</th>\n",
              "      <th>HumidityNoNull</th>\n",
              "      <th>Quarter</th>\n",
              "      <th>OP_RB</th>\n",
              "      <th>OP_OL</th>\n",
              "      <th>OP_QB</th>\n",
              "      <th>OP_TE</th>\n",
              "      <th>OP_WR</th>\n",
              "      <th>OP_DL</th>\n",
              "      <th>OP_LB</th>\n",
              "      <th>OP_DB</th>\n",
              "      <th>Team</th>\n",
              "      <th>PossessionTeam</th>\n",
              "      <th>VisitorScoreBeforePlay</th>\n",
              "      <th>DP_DL</th>\n",
              "      <th>DP_LB</th>\n",
              "      <th>DP_DB</th>\n",
              "      <th>DP_RB</th>\n",
              "      <th>DP_OL</th>\n",
              "      <th>WindSpeed_dc</th>\n",
              "      <th>StadiumType</th>\n",
              "      <th>HomeTeamAbbr</th>\n",
              "      <th>Down</th>\n",
              "      <th>PlayDirection</th>\n",
              "      <th>VisitorTeamAbbr</th>\n",
              "      <th>Turf</th>\n",
              "      <th>WindDirection</th>\n",
              "      <th>GameWeather</th>\n",
              "      <th>YardLine</th>\n",
              "      <th>Distance</th>\n",
              "      <th>OffenseFormation</th>\n",
              "    </tr>\n",
              "  </thead>\n",
              "  <tbody>\n",
              "    <tr>\n",
              "      <th>0</th>\n",
              "      <td>2017090700</td>\n",
              "      <td>20170907000118</td>\n",
              "      <td>0</td>\n",
              "      <td>6.0</td>\n",
              "      <td>(6.0, 8.0]</td>\n",
              "      <td>77.0</td>\n",
              "      <td>1</td>\n",
              "      <td>1</td>\n",
              "      <td>0</td>\n",
              "      <td>0</td>\n",
              "      <td>1</td>\n",
              "      <td>3</td>\n",
              "      <td>0</td>\n",
              "      <td>0</td>\n",
              "      <td>0</td>\n",
              "      <td>away</td>\n",
              "      <td>NE</td>\n",
              "      <td>0</td>\n",
              "      <td>2</td>\n",
              "      <td>3</td>\n",
              "      <td>6</td>\n",
              "      <td>0</td>\n",
              "      <td>0</td>\n",
              "      <td>8.0</td>\n",
              "      <td>outdoor</td>\n",
              "      <td>NE</td>\n",
              "      <td>3</td>\n",
              "      <td>left</td>\n",
              "      <td>KC</td>\n",
              "      <td>Artificial</td>\n",
              "      <td>SW</td>\n",
              "      <td>clear</td>\n",
              "      <td>35</td>\n",
              "      <td>2</td>\n",
              "      <td>SHOTGUN</td>\n",
              "    </tr>\n",
              "    <tr>\n",
              "      <th>22</th>\n",
              "      <td>2017090700</td>\n",
              "      <td>20170907000395</td>\n",
              "      <td>7</td>\n",
              "      <td>7.0</td>\n",
              "      <td>(6.0, 8.0]</td>\n",
              "      <td>77.0</td>\n",
              "      <td>1</td>\n",
              "      <td>1</td>\n",
              "      <td>0</td>\n",
              "      <td>0</td>\n",
              "      <td>3</td>\n",
              "      <td>1</td>\n",
              "      <td>0</td>\n",
              "      <td>0</td>\n",
              "      <td>0</td>\n",
              "      <td>away</td>\n",
              "      <td>NE</td>\n",
              "      <td>0</td>\n",
              "      <td>3</td>\n",
              "      <td>4</td>\n",
              "      <td>4</td>\n",
              "      <td>0</td>\n",
              "      <td>0</td>\n",
              "      <td>8.0</td>\n",
              "      <td>outdoor</td>\n",
              "      <td>NE</td>\n",
              "      <td>1</td>\n",
              "      <td>right</td>\n",
              "      <td>KC</td>\n",
              "      <td>Artificial</td>\n",
              "      <td>SW</td>\n",
              "      <td>clear</td>\n",
              "      <td>10</td>\n",
              "      <td>1</td>\n",
              "      <td>SINGLEBACK</td>\n",
              "    </tr>\n",
              "    <tr>\n",
              "      <th>44</th>\n",
              "      <td>2017090700</td>\n",
              "      <td>20170907000473</td>\n",
              "      <td>7</td>\n",
              "      <td>5.0</td>\n",
              "      <td>(8.0, 10.0]</td>\n",
              "      <td>77.0</td>\n",
              "      <td>1</td>\n",
              "      <td>1</td>\n",
              "      <td>0</td>\n",
              "      <td>0</td>\n",
              "      <td>1</td>\n",
              "      <td>3</td>\n",
              "      <td>0</td>\n",
              "      <td>0</td>\n",
              "      <td>0</td>\n",
              "      <td>away</td>\n",
              "      <td>KC</td>\n",
              "      <td>0</td>\n",
              "      <td>3</td>\n",
              "      <td>2</td>\n",
              "      <td>6</td>\n",
              "      <td>0</td>\n",
              "      <td>0</td>\n",
              "      <td>8.0</td>\n",
              "      <td>outdoor</td>\n",
              "      <td>NE</td>\n",
              "      <td>3</td>\n",
              "      <td>left</td>\n",
              "      <td>KC</td>\n",
              "      <td>Artificial</td>\n",
              "      <td>SW</td>\n",
              "      <td>clear</td>\n",
              "      <td>10</td>\n",
              "      <td>10</td>\n",
              "      <td>SINGLEBACK</td>\n",
              "    </tr>\n",
              "    <tr>\n",
              "      <th>66</th>\n",
              "      <td>2017090700</td>\n",
              "      <td>20170907000516</td>\n",
              "      <td>7</td>\n",
              "      <td>8.0</td>\n",
              "      <td>(-inf, -1.0]</td>\n",
              "      <td>77.0</td>\n",
              "      <td>1</td>\n",
              "      <td>1</td>\n",
              "      <td>0</td>\n",
              "      <td>0</td>\n",
              "      <td>2</td>\n",
              "      <td>2</td>\n",
              "      <td>0</td>\n",
              "      <td>0</td>\n",
              "      <td>0</td>\n",
              "      <td>away</td>\n",
              "      <td>KC</td>\n",
              "      <td>0</td>\n",
              "      <td>3</td>\n",
              "      <td>2</td>\n",
              "      <td>6</td>\n",
              "      <td>0</td>\n",
              "      <td>0</td>\n",
              "      <td>8.0</td>\n",
              "      <td>outdoor</td>\n",
              "      <td>NE</td>\n",
              "      <td>2</td>\n",
              "      <td>left</td>\n",
              "      <td>KC</td>\n",
              "      <td>Artificial</td>\n",
              "      <td>SW</td>\n",
              "      <td>clear</td>\n",
              "      <td>9</td>\n",
              "      <td>9</td>\n",
              "      <td>SINGLEBACK</td>\n",
              "    </tr>\n",
              "    <tr>\n",
              "      <th>88</th>\n",
              "      <td>2017090700</td>\n",
              "      <td>20170907000653</td>\n",
              "      <td>7</td>\n",
              "      <td>9.0</td>\n",
              "      <td>(-1.0, 0.0]</td>\n",
              "      <td>77.0</td>\n",
              "      <td>1</td>\n",
              "      <td>1</td>\n",
              "      <td>6</td>\n",
              "      <td>0</td>\n",
              "      <td>2</td>\n",
              "      <td>1</td>\n",
              "      <td>0</td>\n",
              "      <td>0</td>\n",
              "      <td>0</td>\n",
              "      <td>away</td>\n",
              "      <td>NE</td>\n",
              "      <td>7</td>\n",
              "      <td>2</td>\n",
              "      <td>3</td>\n",
              "      <td>6</td>\n",
              "      <td>0</td>\n",
              "      <td>0</td>\n",
              "      <td>8.0</td>\n",
              "      <td>outdoor</td>\n",
              "      <td>NE</td>\n",
              "      <td>4</td>\n",
              "      <td>left</td>\n",
              "      <td>KC</td>\n",
              "      <td>Artificial</td>\n",
              "      <td>SW</td>\n",
              "      <td>clear</td>\n",
              "      <td>25</td>\n",
              "      <td>10</td>\n",
              "      <td>SHOTGUN</td>\n",
              "    </tr>\n",
              "  </tbody>\n",
              "</table>\n",
              "</div>"
            ],
            "text/plain": [
              "        GameId          PlayId  ...  Distance  OffenseFormation\n",
              "0   2017090700  20170907000118  ...         2           SHOTGUN\n",
              "22  2017090700  20170907000395  ...         1        SINGLEBACK\n",
              "44  2017090700  20170907000473  ...        10        SINGLEBACK\n",
              "66  2017090700  20170907000516  ...         9        SINGLEBACK\n",
              "88  2017090700  20170907000653  ...        10           SHOTGUN\n",
              "\n",
              "[5 rows x 35 columns]"
            ]
          },
          "metadata": {},
          "execution_count": 65
        }
      ]
    },
    {
      "cell_type": "code",
      "metadata": {
        "colab": {
          "base_uri": "https://localhost:8080/"
        },
        "id": "7Mqf6UPWpyW5",
        "outputId": "1b55beb6-eb31-4290-d36e-a364bbc0b156"
      },
      "source": [
        "train_x.count()"
      ],
      "execution_count": null,
      "outputs": [
        {
          "output_type": "execute_result",
          "data": {
            "text/plain": [
              "GameId                    12746\n",
              "PlayId                    12746\n",
              "HomeScoreBeforePlay       12746\n",
              "DefendersInTheBox         12746\n",
              "YardBins                  12746\n",
              "HumidityNoNull            12746\n",
              "Quarter                   12746\n",
              "OP_RB                     12746\n",
              "OP_OL                     12746\n",
              "OP_QB                     12746\n",
              "OP_TE                     12746\n",
              "OP_WR                     12746\n",
              "OP_DL                     12746\n",
              "OP_LB                     12746\n",
              "OP_DB                     12746\n",
              "Team                      12746\n",
              "PossessionTeam            12746\n",
              "VisitorScoreBeforePlay    12746\n",
              "DP_DL                     12746\n",
              "DP_LB                     12746\n",
              "DP_DB                     12746\n",
              "DP_RB                     12746\n",
              "DP_OL                     12746\n",
              "WindSpeed_dc              12746\n",
              "StadiumType               12746\n",
              "HomeTeamAbbr              12746\n",
              "Down                      12746\n",
              "PlayDirection             12746\n",
              "VisitorTeamAbbr           12746\n",
              "Turf                      12746\n",
              "WindDirection             12746\n",
              "GameWeather               12746\n",
              "YardLine                  12746\n",
              "Distance                  12746\n",
              "OffenseFormation          12746\n",
              "dtype: int64"
            ]
          },
          "metadata": {},
          "execution_count": 66
        }
      ]
    },
    {
      "cell_type": "code",
      "metadata": {
        "colab": {
          "base_uri": "https://localhost:8080/"
        },
        "id": "fohkKiyRplwC",
        "outputId": "b65ee42a-68c3-4dba-cd88-e0d8f7983faa"
      },
      "source": [
        "train_y.count()"
      ],
      "execution_count": null,
      "outputs": [
        {
          "output_type": "execute_result",
          "data": {
            "text/plain": [
              "YardBins    12746\n",
              "PlayId      12746\n",
              "dtype: int64"
            ]
          },
          "metadata": {},
          "execution_count": 67
        }
      ]
    },
    {
      "cell_type": "code",
      "metadata": {
        "id": "0oBrHZnop1Z4"
      },
      "source": [
        "# Train\n",
        "\n",
        "X_train = df_train.drop([\"DisplayName\",\"unique_idx\",\"GameClock\",\"Unnamed: 0_x\",\"Dis\",\"Unnamed: 0_y\",\"GameId\"], axis = 1)\n",
        "X_test = df_test.drop([\"DisplayName\",\"unique_idx\",\"GameClock\",\"Unnamed: 0_x\",\"Dis\",\"Unnamed: 0_y\",\"GameId\"], axis = 1)\n",
        "\n",
        "cols = [\"Dir\",\"Y\",\"IsRusher\",\"PlayerWeight\",\"Orientation\",\"X\",\"Height_in_cms\",\"A\",\"Position\",\"S_binned\"]\n",
        "#cols = [\"Dir\",\"Y\",\"IsRusher\",\"PlayerWeight\",\"Orientation\",\"X\",\"Height_in_cms\",\"A\",\"Position\",\"S_binned\",\"Yardbins\",\"PlayId\"]\n",
        "\n",
        "train_x = X_train.drop(cols,axis = 1).drop_duplicates(subset = \"PlayId\")\n",
        "#train_x = X_train[cols]\n",
        "train_y = X_train[[\"YardBins\",\"PlayId\"]].drop_duplicates(subset = \"PlayId\")\n",
        "\n",
        "train_x = train_x.drop([\"YardBins\",\"PlayId\"],axis = 1)\n",
        "train_x = pd.get_dummies(train_x)\n",
        "train_y = train_y[[\"YardBins\"]]\n",
        "\n",
        "# Test\n",
        "\n",
        "test_x = X_test.drop(cols,axis = 1).drop_duplicates(subset = \"PlayId\")\n",
        "test_y = test_x[[\"YardBins\",\"PlayId\"]].drop_duplicates(subset = \"PlayId\")\n",
        "\n",
        "test_x = test_x.drop([\"YardBins\",\"PlayId\"],axis = 1)\n",
        "test_x = pd.get_dummies(test_x)\n",
        "test_y = test_y[[\"YardBins\"]]"
      ],
      "execution_count": null,
      "outputs": []
    },
    {
      "cell_type": "code",
      "metadata": {
        "id": "SCgFA-kM05mS"
      },
      "source": [
        "# Get missing columns in the training test\n",
        "missing_cols = set(train_x.columns ) - set(test_x.columns )\n",
        "# Add a missing column in test set with default value equal to 0\n",
        "for c in missing_cols:\n",
        "    test_x[c] = 0\n",
        "# Ensure the order of column in the test set is in the same order than in train set\n",
        "test_x = test_x[test_x.columns]"
      ],
      "execution_count": null,
      "outputs": []
    },
    {
      "cell_type": "code",
      "metadata": {
        "colab": {
          "base_uri": "https://localhost:8080/"
        },
        "id": "7TgkRiI51H_3",
        "outputId": "d70743e3-8787-43ae-ddf8-119b8660210f"
      },
      "source": [
        "RF = RandomForestClassifier()\n",
        "RF.fit(train_x,train_y)\n",
        "prediction = RF.predict(test_x)"
      ],
      "execution_count": null,
      "outputs": [
        {
          "output_type": "stream",
          "name": "stderr",
          "text": [
            "/usr/local/lib/python3.7/dist-packages/ipykernel_launcher.py:2: DataConversionWarning: A column-vector y was passed when a 1d array was expected. Please change the shape of y to (n_samples,), for example using ravel().\n",
            "  \n",
            "/usr/local/lib/python3.7/dist-packages/sklearn/base.py:488: FutureWarning: The feature names should match those that were passed during fit. Starting version 1.2, an error will be raised.\n",
            "Feature names must be in the same order as they were in fit.\n",
            "\n",
            "  warnings.warn(message, FutureWarning)\n"
          ]
        }
      ]
    },
    {
      "cell_type": "code",
      "metadata": {
        "colab": {
          "base_uri": "https://localhost:8080/"
        },
        "id": "ave25iIx4nGW",
        "outputId": "d52c9a72-bc11-4643-9bc4-08e191ed279f"
      },
      "source": [
        "target_names = [\"Class 1\", \"Class 2\",\"Class 3\", \"Class 4\", \"Class 5\", \"Class 6\", \"Class 7\",\"Class 8\",\"Class 9\", \"Class 10\"]\n",
        "print(classification_report(test_y, prediction,target_names=target_names))\n",
        "#"
      ],
      "execution_count": null,
      "outputs": [
        {
          "output_type": "stream",
          "name": "stdout",
          "text": [
            "              precision    recall  f1-score   support\n",
            "\n",
            "     Class 1       0.08      0.12      0.09       195\n",
            "     Class 2       0.11      0.03      0.05       253\n",
            "     Class 3       0.25      0.83      0.38       560\n",
            "     Class 4       0.00      0.00      0.00       107\n",
            "     Class 5       0.00      0.00      0.00        36\n",
            "     Class 6       0.22      0.00      0.01       521\n",
            "     Class 7       0.00      0.00      0.00        45\n",
            "     Class 8       0.00      0.00      0.00       303\n",
            "     Class 9       0.00      0.00      0.00       155\n",
            "    Class 10       0.00      0.00      0.00        83\n",
            "\n",
            "    accuracy                           0.22      2258\n",
            "   macro avg       0.07      0.10      0.05      2258\n",
            "weighted avg       0.13      0.22      0.11      2258\n",
            "\n"
          ]
        },
        {
          "output_type": "stream",
          "name": "stderr",
          "text": [
            "/usr/local/lib/python3.7/dist-packages/sklearn/metrics/_classification.py:1308: UndefinedMetricWarning: Precision and F-score are ill-defined and being set to 0.0 in labels with no predicted samples. Use `zero_division` parameter to control this behavior.\n",
            "  _warn_prf(average, modifier, msg_start, len(result))\n",
            "/usr/local/lib/python3.7/dist-packages/sklearn/metrics/_classification.py:1308: UndefinedMetricWarning: Precision and F-score are ill-defined and being set to 0.0 in labels with no predicted samples. Use `zero_division` parameter to control this behavior.\n",
            "  _warn_prf(average, modifier, msg_start, len(result))\n",
            "/usr/local/lib/python3.7/dist-packages/sklearn/metrics/_classification.py:1308: UndefinedMetricWarning: Precision and F-score are ill-defined and being set to 0.0 in labels with no predicted samples. Use `zero_division` parameter to control this behavior.\n",
            "  _warn_prf(average, modifier, msg_start, len(result))\n"
          ]
        }
      ]
    }
  ]
}